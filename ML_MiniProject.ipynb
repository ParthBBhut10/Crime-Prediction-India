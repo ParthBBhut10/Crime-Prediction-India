{
  "cells": [
    {
      "cell_type": "markdown",
      "metadata": {
        "id": "xDGIEPS-2-86"
      },
      "source": [
        "\n",
        "##Prediction of Crime-Rate in District of India"
      ]
    },
    {
      "cell_type": "markdown",
      "source": [
        "**To solve this dataset we have used KNN DECISION TREE CLASSIFIER** "
      ],
      "metadata": {
        "id": "OTU9SI7MbNAP"
      }
    },
    {
      "cell_type": "code",
      "execution_count": null,
      "metadata": {
        "id": "VrdKiDfC22U-"
      },
      "outputs": [],
      "source": [
        "import numpy as np\n",
        "import pandas as pd\n",
        "import matplotlib.pyplot as plt\n",
        "import random\n",
        "import seaborn as sns\n",
        "from sklearn.tree import DecisionTreeClassifier, export_graphviz\n",
        "from sklearn.model_selection import train_test_split\n",
        "from sklearn.linear_model import LinearRegression\n",
        "from sklearn import preprocessing\n",
        "import math\n",
        "from sklearn.preprocessing import OneHotEncoder    #used for preprocessing\n",
        "from sklearn.ensemble import RandomForestClassifier\n",
        "import sklearn.metrics as metrics\n",
        "from sklearn.metrics import confusion_matrix, classification_report, accuracy_score\n",
        "from sklearn.linear_model import LogisticRegression"
      ]
    },
    {
      "cell_type": "code",
      "execution_count": null,
      "metadata": {
        "colab": {
          "base_uri": "https://localhost:8080/",
          "height": 525
        },
        "id": "J5I4YCt44L8W",
        "outputId": "14434f1e-21da-4064-9252-980e8f9c9665"
      },
      "outputs": [
        {
          "output_type": "execute_result",
          "data": {
            "text/plain": [
              "         STATE/UT       DISTRICT  YEAR  MURDER  ATTEMPT TO MURDER  \\\n",
              "0  ANDHRA PRADESH       ADILABAD  2001     101                 60   \n",
              "1  ANDHRA PRADESH      ANANTAPUR  2001     151                125   \n",
              "2  ANDHRA PRADESH       CHITTOOR  2001     101                 57   \n",
              "3  ANDHRA PRADESH       CUDDAPAH  2001      80                 53   \n",
              "4  ANDHRA PRADESH  EAST GODAVARI  2001      82                 67   \n",
              "\n",
              "   CULPABLE HOMICIDE NOT AMOUNTING TO MURDER  RAPE  CUSTODIAL RAPE  \\\n",
              "0                                         17    50               0   \n",
              "1                                          1    23               0   \n",
              "2                                          2    27               0   \n",
              "3                                          1    20               0   \n",
              "4                                          1    23               0   \n",
              "\n",
              "   OTHER RAPE  KIDNAPPING & ABDUCTION  ...  HURT/GREVIOUS HURT  DOWRY DEATHS  \\\n",
              "0          50                      46  ...                1131            16   \n",
              "1          23                      53  ...                1543             7   \n",
              "2          27                      59  ...                2088            14   \n",
              "3          20                      25  ...                 795            17   \n",
              "4          23                      49  ...                1244            12   \n",
              "\n",
              "   ASSAULT ON WOMEN WITH INTENT TO OUTRAGE HER MODESTY  \\\n",
              "0                                                149     \n",
              "1                                                118     \n",
              "2                                                112     \n",
              "3                                                126     \n",
              "4                                                109     \n",
              "\n",
              "   INSULT TO MODESTY OF WOMEN  CRUELTY BY HUSBAND OR HIS RELATIVES  \\\n",
              "0                          34                                  175   \n",
              "1                          24                                  154   \n",
              "2                          83                                  186   \n",
              "3                          38                                   57   \n",
              "4                          58                                  247   \n",
              "\n",
              "   IMPORTATION OF GIRLS FROM FOREIGN COUNTRIES  CAUSING DEATH BY NEGLIGENCE  \\\n",
              "0                                            0                          181   \n",
              "1                                            0                          270   \n",
              "2                                            0                          404   \n",
              "3                                            0                          233   \n",
              "4                                            0                          431   \n",
              "\n",
              "   OTHER IPC CRIMES  TOTAL IPC CRIMES  CRIME  \n",
              "0              1518              4154  False  \n",
              "1               754              4125  False  \n",
              "2              1262              5818   True  \n",
              "3              1181              3140  False  \n",
              "4              2313              6507   True  \n",
              "\n",
              "[5 rows x 34 columns]"
            ],
            "text/html": [
              "\n",
              "  <div id=\"df-b2ee9f15-e4ed-4708-842f-a8c0e194528a\">\n",
              "    <div class=\"colab-df-container\">\n",
              "      <div>\n",
              "<style scoped>\n",
              "    .dataframe tbody tr th:only-of-type {\n",
              "        vertical-align: middle;\n",
              "    }\n",
              "\n",
              "    .dataframe tbody tr th {\n",
              "        vertical-align: top;\n",
              "    }\n",
              "\n",
              "    .dataframe thead th {\n",
              "        text-align: right;\n",
              "    }\n",
              "</style>\n",
              "<table border=\"1\" class=\"dataframe\">\n",
              "  <thead>\n",
              "    <tr style=\"text-align: right;\">\n",
              "      <th></th>\n",
              "      <th>STATE/UT</th>\n",
              "      <th>DISTRICT</th>\n",
              "      <th>YEAR</th>\n",
              "      <th>MURDER</th>\n",
              "      <th>ATTEMPT TO MURDER</th>\n",
              "      <th>CULPABLE HOMICIDE NOT AMOUNTING TO MURDER</th>\n",
              "      <th>RAPE</th>\n",
              "      <th>CUSTODIAL RAPE</th>\n",
              "      <th>OTHER RAPE</th>\n",
              "      <th>KIDNAPPING &amp; ABDUCTION</th>\n",
              "      <th>...</th>\n",
              "      <th>HURT/GREVIOUS HURT</th>\n",
              "      <th>DOWRY DEATHS</th>\n",
              "      <th>ASSAULT ON WOMEN WITH INTENT TO OUTRAGE HER MODESTY</th>\n",
              "      <th>INSULT TO MODESTY OF WOMEN</th>\n",
              "      <th>CRUELTY BY HUSBAND OR HIS RELATIVES</th>\n",
              "      <th>IMPORTATION OF GIRLS FROM FOREIGN COUNTRIES</th>\n",
              "      <th>CAUSING DEATH BY NEGLIGENCE</th>\n",
              "      <th>OTHER IPC CRIMES</th>\n",
              "      <th>TOTAL IPC CRIMES</th>\n",
              "      <th>CRIME</th>\n",
              "    </tr>\n",
              "  </thead>\n",
              "  <tbody>\n",
              "    <tr>\n",
              "      <th>0</th>\n",
              "      <td>ANDHRA PRADESH</td>\n",
              "      <td>ADILABAD</td>\n",
              "      <td>2001</td>\n",
              "      <td>101</td>\n",
              "      <td>60</td>\n",
              "      <td>17</td>\n",
              "      <td>50</td>\n",
              "      <td>0</td>\n",
              "      <td>50</td>\n",
              "      <td>46</td>\n",
              "      <td>...</td>\n",
              "      <td>1131</td>\n",
              "      <td>16</td>\n",
              "      <td>149</td>\n",
              "      <td>34</td>\n",
              "      <td>175</td>\n",
              "      <td>0</td>\n",
              "      <td>181</td>\n",
              "      <td>1518</td>\n",
              "      <td>4154</td>\n",
              "      <td>False</td>\n",
              "    </tr>\n",
              "    <tr>\n",
              "      <th>1</th>\n",
              "      <td>ANDHRA PRADESH</td>\n",
              "      <td>ANANTAPUR</td>\n",
              "      <td>2001</td>\n",
              "      <td>151</td>\n",
              "      <td>125</td>\n",
              "      <td>1</td>\n",
              "      <td>23</td>\n",
              "      <td>0</td>\n",
              "      <td>23</td>\n",
              "      <td>53</td>\n",
              "      <td>...</td>\n",
              "      <td>1543</td>\n",
              "      <td>7</td>\n",
              "      <td>118</td>\n",
              "      <td>24</td>\n",
              "      <td>154</td>\n",
              "      <td>0</td>\n",
              "      <td>270</td>\n",
              "      <td>754</td>\n",
              "      <td>4125</td>\n",
              "      <td>False</td>\n",
              "    </tr>\n",
              "    <tr>\n",
              "      <th>2</th>\n",
              "      <td>ANDHRA PRADESH</td>\n",
              "      <td>CHITTOOR</td>\n",
              "      <td>2001</td>\n",
              "      <td>101</td>\n",
              "      <td>57</td>\n",
              "      <td>2</td>\n",
              "      <td>27</td>\n",
              "      <td>0</td>\n",
              "      <td>27</td>\n",
              "      <td>59</td>\n",
              "      <td>...</td>\n",
              "      <td>2088</td>\n",
              "      <td>14</td>\n",
              "      <td>112</td>\n",
              "      <td>83</td>\n",
              "      <td>186</td>\n",
              "      <td>0</td>\n",
              "      <td>404</td>\n",
              "      <td>1262</td>\n",
              "      <td>5818</td>\n",
              "      <td>True</td>\n",
              "    </tr>\n",
              "    <tr>\n",
              "      <th>3</th>\n",
              "      <td>ANDHRA PRADESH</td>\n",
              "      <td>CUDDAPAH</td>\n",
              "      <td>2001</td>\n",
              "      <td>80</td>\n",
              "      <td>53</td>\n",
              "      <td>1</td>\n",
              "      <td>20</td>\n",
              "      <td>0</td>\n",
              "      <td>20</td>\n",
              "      <td>25</td>\n",
              "      <td>...</td>\n",
              "      <td>795</td>\n",
              "      <td>17</td>\n",
              "      <td>126</td>\n",
              "      <td>38</td>\n",
              "      <td>57</td>\n",
              "      <td>0</td>\n",
              "      <td>233</td>\n",
              "      <td>1181</td>\n",
              "      <td>3140</td>\n",
              "      <td>False</td>\n",
              "    </tr>\n",
              "    <tr>\n",
              "      <th>4</th>\n",
              "      <td>ANDHRA PRADESH</td>\n",
              "      <td>EAST GODAVARI</td>\n",
              "      <td>2001</td>\n",
              "      <td>82</td>\n",
              "      <td>67</td>\n",
              "      <td>1</td>\n",
              "      <td>23</td>\n",
              "      <td>0</td>\n",
              "      <td>23</td>\n",
              "      <td>49</td>\n",
              "      <td>...</td>\n",
              "      <td>1244</td>\n",
              "      <td>12</td>\n",
              "      <td>109</td>\n",
              "      <td>58</td>\n",
              "      <td>247</td>\n",
              "      <td>0</td>\n",
              "      <td>431</td>\n",
              "      <td>2313</td>\n",
              "      <td>6507</td>\n",
              "      <td>True</td>\n",
              "    </tr>\n",
              "  </tbody>\n",
              "</table>\n",
              "<p>5 rows × 34 columns</p>\n",
              "</div>\n",
              "      <button class=\"colab-df-convert\" onclick=\"convertToInteractive('df-b2ee9f15-e4ed-4708-842f-a8c0e194528a')\"\n",
              "              title=\"Convert this dataframe to an interactive table.\"\n",
              "              style=\"display:none;\">\n",
              "        \n",
              "  <svg xmlns=\"http://www.w3.org/2000/svg\" height=\"24px\"viewBox=\"0 0 24 24\"\n",
              "       width=\"24px\">\n",
              "    <path d=\"M0 0h24v24H0V0z\" fill=\"none\"/>\n",
              "    <path d=\"M18.56 5.44l.94 2.06.94-2.06 2.06-.94-2.06-.94-.94-2.06-.94 2.06-2.06.94zm-11 1L8.5 8.5l.94-2.06 2.06-.94-2.06-.94L8.5 2.5l-.94 2.06-2.06.94zm10 10l.94 2.06.94-2.06 2.06-.94-2.06-.94-.94-2.06-.94 2.06-2.06.94z\"/><path d=\"M17.41 7.96l-1.37-1.37c-.4-.4-.92-.59-1.43-.59-.52 0-1.04.2-1.43.59L10.3 9.45l-7.72 7.72c-.78.78-.78 2.05 0 2.83L4 21.41c.39.39.9.59 1.41.59.51 0 1.02-.2 1.41-.59l7.78-7.78 2.81-2.81c.8-.78.8-2.07 0-2.86zM5.41 20L4 18.59l7.72-7.72 1.47 1.35L5.41 20z\"/>\n",
              "  </svg>\n",
              "      </button>\n",
              "      \n",
              "  <style>\n",
              "    .colab-df-container {\n",
              "      display:flex;\n",
              "      flex-wrap:wrap;\n",
              "      gap: 12px;\n",
              "    }\n",
              "\n",
              "    .colab-df-convert {\n",
              "      background-color: #E8F0FE;\n",
              "      border: none;\n",
              "      border-radius: 50%;\n",
              "      cursor: pointer;\n",
              "      display: none;\n",
              "      fill: #1967D2;\n",
              "      height: 32px;\n",
              "      padding: 0 0 0 0;\n",
              "      width: 32px;\n",
              "    }\n",
              "\n",
              "    .colab-df-convert:hover {\n",
              "      background-color: #E2EBFA;\n",
              "      box-shadow: 0px 1px 2px rgba(60, 64, 67, 0.3), 0px 1px 3px 1px rgba(60, 64, 67, 0.15);\n",
              "      fill: #174EA6;\n",
              "    }\n",
              "\n",
              "    [theme=dark] .colab-df-convert {\n",
              "      background-color: #3B4455;\n",
              "      fill: #D2E3FC;\n",
              "    }\n",
              "\n",
              "    [theme=dark] .colab-df-convert:hover {\n",
              "      background-color: #434B5C;\n",
              "      box-shadow: 0px 1px 3px 1px rgba(0, 0, 0, 0.15);\n",
              "      filter: drop-shadow(0px 1px 2px rgba(0, 0, 0, 0.3));\n",
              "      fill: #FFFFFF;\n",
              "    }\n",
              "  </style>\n",
              "\n",
              "      <script>\n",
              "        const buttonEl =\n",
              "          document.querySelector('#df-b2ee9f15-e4ed-4708-842f-a8c0e194528a button.colab-df-convert');\n",
              "        buttonEl.style.display =\n",
              "          google.colab.kernel.accessAllowed ? 'block' : 'none';\n",
              "\n",
              "        async function convertToInteractive(key) {\n",
              "          const element = document.querySelector('#df-b2ee9f15-e4ed-4708-842f-a8c0e194528a');\n",
              "          const dataTable =\n",
              "            await google.colab.kernel.invokeFunction('convertToInteractive',\n",
              "                                                     [key], {});\n",
              "          if (!dataTable) return;\n",
              "\n",
              "          const docLinkHtml = 'Like what you see? Visit the ' +\n",
              "            '<a target=\"_blank\" href=https://colab.research.google.com/notebooks/data_table.ipynb>data table notebook</a>'\n",
              "            + ' to learn more about interactive tables.';\n",
              "          element.innerHTML = '';\n",
              "          dataTable['output_type'] = 'display_data';\n",
              "          await google.colab.output.renderOutput(dataTable, element);\n",
              "          const docLink = document.createElement('div');\n",
              "          docLink.innerHTML = docLinkHtml;\n",
              "          element.appendChild(docLink);\n",
              "        }\n",
              "      </script>\n",
              "    </div>\n",
              "  </div>\n",
              "  "
            ]
          },
          "metadata": {},
          "execution_count": 3
        }
      ],
      "source": [
        "data = pd.read_csv('/content/drive/MyDrive/crime.csv')\n",
        "data.head()"
      ]
    },
    {
      "cell_type": "code",
      "execution_count": null,
      "metadata": {
        "colab": {
          "base_uri": "https://localhost:8080/"
        },
        "id": "rR8czWmYW_CS",
        "outputId": "fc76e5bb-ef22-42f7-ddc0-8b1d5382973b"
      },
      "outputs": [
        {
          "output_type": "stream",
          "name": "stdout",
          "text": [
            "<class 'pandas.core.frame.DataFrame'>\n",
            "RangeIndex: 9017 entries, 0 to 9016\n",
            "Data columns (total 34 columns):\n",
            " #   Column                                               Non-Null Count  Dtype \n",
            "---  ------                                               --------------  ----- \n",
            " 0   STATE/UT                                             9017 non-null   object\n",
            " 1   DISTRICT                                             9017 non-null   object\n",
            " 2   YEAR                                                 9017 non-null   int64 \n",
            " 3   MURDER                                               9017 non-null   int64 \n",
            " 4   ATTEMPT TO MURDER                                    9017 non-null   int64 \n",
            " 5   CULPABLE HOMICIDE NOT AMOUNTING TO MURDER            9017 non-null   int64 \n",
            " 6   RAPE                                                 9017 non-null   int64 \n",
            " 7   CUSTODIAL RAPE                                       9017 non-null   int64 \n",
            " 8   OTHER RAPE                                           9017 non-null   int64 \n",
            " 9   KIDNAPPING & ABDUCTION                               9017 non-null   int64 \n",
            " 10  KIDNAPPING AND ABDUCTION OF WOMEN AND GIRLS          9017 non-null   int64 \n",
            " 11  KIDNAPPING AND ABDUCTION OF OTHERS                   9017 non-null   int64 \n",
            " 12  DACOITY                                              9017 non-null   int64 \n",
            " 13  PREPARATION AND ASSEMBLY FOR DACOITY                 9017 non-null   int64 \n",
            " 14  ROBBERY                                              9017 non-null   int64 \n",
            " 15  BURGLARY                                             9017 non-null   int64 \n",
            " 16  THEFT                                                9017 non-null   int64 \n",
            " 17  AUTO THEFT                                           9017 non-null   int64 \n",
            " 18  OTHER THEFT                                          9017 non-null   int64 \n",
            " 19  RIOTS                                                9017 non-null   int64 \n",
            " 20  CRIMINAL BREACH OF TRUST                             9017 non-null   int64 \n",
            " 21  CHEATING                                             9017 non-null   int64 \n",
            " 22  COUNTERFIETING                                       9017 non-null   int64 \n",
            " 23  ARSON                                                9017 non-null   int64 \n",
            " 24  HURT/GREVIOUS HURT                                   9017 non-null   int64 \n",
            " 25  DOWRY DEATHS                                         9017 non-null   int64 \n",
            " 26  ASSAULT ON WOMEN WITH INTENT TO OUTRAGE HER MODESTY  9017 non-null   int64 \n",
            " 27  INSULT TO MODESTY OF WOMEN                           9017 non-null   int64 \n",
            " 28  CRUELTY BY HUSBAND OR HIS RELATIVES                  9017 non-null   int64 \n",
            " 29  IMPORTATION OF GIRLS FROM FOREIGN COUNTRIES          9017 non-null   int64 \n",
            " 30  CAUSING DEATH BY NEGLIGENCE                          9017 non-null   int64 \n",
            " 31  OTHER IPC CRIMES                                     9017 non-null   int64 \n",
            " 32  TOTAL IPC CRIMES                                     9017 non-null   int64 \n",
            " 33  CRIME                                                9017 non-null   bool  \n",
            "dtypes: bool(1), int64(31), object(2)\n",
            "memory usage: 2.3+ MB\n"
          ]
        }
      ],
      "source": [
        "data.info()\n",
        "#print(round(9017 / 9016 * 100,2), \"percentage of the data has been retained.\")"
      ]
    },
    {
      "cell_type": "markdown",
      "metadata": {
        "id": "d8VwoVNr_pO8"
      },
      "source": [
        "**Data Preprocessing**"
      ]
    },
    {
      "cell_type": "code",
      "execution_count": null,
      "metadata": {
        "colab": {
          "base_uri": "https://localhost:8080/"
        },
        "id": "6RVIalBW5OFJ",
        "outputId": "93b4c47e-5549-4eea-8222-7fee5b4ed6d3"
      },
      "outputs": [
        {
          "output_type": "stream",
          "name": "stdout",
          "text": [
            "Number of Missing Values in the whole dataset :  0\n"
          ]
        }
      ],
      "source": [
        "# Dataset is Clean \n",
        "print(\"Number of Missing Values in the whole dataset : \", data.isna().sum().sum())"
      ]
    },
    {
      "cell_type": "code",
      "execution_count": null,
      "metadata": {
        "colab": {
          "base_uri": "https://localhost:8080/",
          "height": 626
        },
        "id": "upl257JFXCq0",
        "outputId": "9cee663a-afa6-4749-cf03-3fc62518384f"
      },
      "outputs": [
        {
          "output_type": "execute_result",
          "data": {
            "text/plain": [
              "      STATE/UT  DISTRICT   YEAR  MURDER  ATTEMPT TO MURDER  \\\n",
              "0        False     False  False   False              False   \n",
              "1        False     False  False   False              False   \n",
              "2        False     False  False   False              False   \n",
              "3        False     False  False   False              False   \n",
              "4        False     False  False   False              False   \n",
              "...        ...       ...    ...     ...                ...   \n",
              "9012     False     False  False   False              False   \n",
              "9013     False     False  False   False              False   \n",
              "9014     False     False  False   False              False   \n",
              "9015     False     False  False   False              False   \n",
              "9016     False     False  False   False              False   \n",
              "\n",
              "      CULPABLE HOMICIDE NOT AMOUNTING TO MURDER   RAPE  CUSTODIAL RAPE  \\\n",
              "0                                         False  False           False   \n",
              "1                                         False  False           False   \n",
              "2                                         False  False           False   \n",
              "3                                         False  False           False   \n",
              "4                                         False  False           False   \n",
              "...                                         ...    ...             ...   \n",
              "9012                                      False  False           False   \n",
              "9013                                      False  False           False   \n",
              "9014                                      False  False           False   \n",
              "9015                                      False  False           False   \n",
              "9016                                      False  False           False   \n",
              "\n",
              "      OTHER RAPE  KIDNAPPING & ABDUCTION  ...  HURT/GREVIOUS HURT  \\\n",
              "0          False                   False  ...               False   \n",
              "1          False                   False  ...               False   \n",
              "2          False                   False  ...               False   \n",
              "3          False                   False  ...               False   \n",
              "4          False                   False  ...               False   \n",
              "...          ...                     ...  ...                 ...   \n",
              "9012       False                   False  ...               False   \n",
              "9013       False                   False  ...               False   \n",
              "9014       False                   False  ...               False   \n",
              "9015       False                   False  ...               False   \n",
              "9016       False                   False  ...               False   \n",
              "\n",
              "      DOWRY DEATHS  ASSAULT ON WOMEN WITH INTENT TO OUTRAGE HER MODESTY  \\\n",
              "0            False                                              False     \n",
              "1            False                                              False     \n",
              "2            False                                              False     \n",
              "3            False                                              False     \n",
              "4            False                                              False     \n",
              "...            ...                                                ...     \n",
              "9012         False                                              False     \n",
              "9013         False                                              False     \n",
              "9014         False                                              False     \n",
              "9015         False                                              False     \n",
              "9016         False                                              False     \n",
              "\n",
              "      INSULT TO MODESTY OF WOMEN  CRUELTY BY HUSBAND OR HIS RELATIVES  \\\n",
              "0                          False                                False   \n",
              "1                          False                                False   \n",
              "2                          False                                False   \n",
              "3                          False                                False   \n",
              "4                          False                                False   \n",
              "...                          ...                                  ...   \n",
              "9012                       False                                False   \n",
              "9013                       False                                False   \n",
              "9014                       False                                False   \n",
              "9015                       False                                False   \n",
              "9016                       False                                False   \n",
              "\n",
              "      IMPORTATION OF GIRLS FROM FOREIGN COUNTRIES  \\\n",
              "0                                           False   \n",
              "1                                           False   \n",
              "2                                           False   \n",
              "3                                           False   \n",
              "4                                           False   \n",
              "...                                           ...   \n",
              "9012                                        False   \n",
              "9013                                        False   \n",
              "9014                                        False   \n",
              "9015                                        False   \n",
              "9016                                        False   \n",
              "\n",
              "      CAUSING DEATH BY NEGLIGENCE  OTHER IPC CRIMES  TOTAL IPC CRIMES  CRIME  \n",
              "0                           False             False             False  False  \n",
              "1                           False             False             False  False  \n",
              "2                           False             False             False  False  \n",
              "3                           False             False             False  False  \n",
              "4                           False             False             False  False  \n",
              "...                           ...               ...               ...    ...  \n",
              "9012                        False             False             False  False  \n",
              "9013                        False             False             False  False  \n",
              "9014                        False             False             False  False  \n",
              "9015                        False             False             False  False  \n",
              "9016                        False             False             False  False  \n",
              "\n",
              "[9017 rows x 34 columns]"
            ],
            "text/html": [
              "\n",
              "  <div id=\"df-2badefe9-70f0-4f01-95db-bd46f0fa29d5\">\n",
              "    <div class=\"colab-df-container\">\n",
              "      <div>\n",
              "<style scoped>\n",
              "    .dataframe tbody tr th:only-of-type {\n",
              "        vertical-align: middle;\n",
              "    }\n",
              "\n",
              "    .dataframe tbody tr th {\n",
              "        vertical-align: top;\n",
              "    }\n",
              "\n",
              "    .dataframe thead th {\n",
              "        text-align: right;\n",
              "    }\n",
              "</style>\n",
              "<table border=\"1\" class=\"dataframe\">\n",
              "  <thead>\n",
              "    <tr style=\"text-align: right;\">\n",
              "      <th></th>\n",
              "      <th>STATE/UT</th>\n",
              "      <th>DISTRICT</th>\n",
              "      <th>YEAR</th>\n",
              "      <th>MURDER</th>\n",
              "      <th>ATTEMPT TO MURDER</th>\n",
              "      <th>CULPABLE HOMICIDE NOT AMOUNTING TO MURDER</th>\n",
              "      <th>RAPE</th>\n",
              "      <th>CUSTODIAL RAPE</th>\n",
              "      <th>OTHER RAPE</th>\n",
              "      <th>KIDNAPPING &amp; ABDUCTION</th>\n",
              "      <th>...</th>\n",
              "      <th>HURT/GREVIOUS HURT</th>\n",
              "      <th>DOWRY DEATHS</th>\n",
              "      <th>ASSAULT ON WOMEN WITH INTENT TO OUTRAGE HER MODESTY</th>\n",
              "      <th>INSULT TO MODESTY OF WOMEN</th>\n",
              "      <th>CRUELTY BY HUSBAND OR HIS RELATIVES</th>\n",
              "      <th>IMPORTATION OF GIRLS FROM FOREIGN COUNTRIES</th>\n",
              "      <th>CAUSING DEATH BY NEGLIGENCE</th>\n",
              "      <th>OTHER IPC CRIMES</th>\n",
              "      <th>TOTAL IPC CRIMES</th>\n",
              "      <th>CRIME</th>\n",
              "    </tr>\n",
              "  </thead>\n",
              "  <tbody>\n",
              "    <tr>\n",
              "      <th>0</th>\n",
              "      <td>False</td>\n",
              "      <td>False</td>\n",
              "      <td>False</td>\n",
              "      <td>False</td>\n",
              "      <td>False</td>\n",
              "      <td>False</td>\n",
              "      <td>False</td>\n",
              "      <td>False</td>\n",
              "      <td>False</td>\n",
              "      <td>False</td>\n",
              "      <td>...</td>\n",
              "      <td>False</td>\n",
              "      <td>False</td>\n",
              "      <td>False</td>\n",
              "      <td>False</td>\n",
              "      <td>False</td>\n",
              "      <td>False</td>\n",
              "      <td>False</td>\n",
              "      <td>False</td>\n",
              "      <td>False</td>\n",
              "      <td>False</td>\n",
              "    </tr>\n",
              "    <tr>\n",
              "      <th>1</th>\n",
              "      <td>False</td>\n",
              "      <td>False</td>\n",
              "      <td>False</td>\n",
              "      <td>False</td>\n",
              "      <td>False</td>\n",
              "      <td>False</td>\n",
              "      <td>False</td>\n",
              "      <td>False</td>\n",
              "      <td>False</td>\n",
              "      <td>False</td>\n",
              "      <td>...</td>\n",
              "      <td>False</td>\n",
              "      <td>False</td>\n",
              "      <td>False</td>\n",
              "      <td>False</td>\n",
              "      <td>False</td>\n",
              "      <td>False</td>\n",
              "      <td>False</td>\n",
              "      <td>False</td>\n",
              "      <td>False</td>\n",
              "      <td>False</td>\n",
              "    </tr>\n",
              "    <tr>\n",
              "      <th>2</th>\n",
              "      <td>False</td>\n",
              "      <td>False</td>\n",
              "      <td>False</td>\n",
              "      <td>False</td>\n",
              "      <td>False</td>\n",
              "      <td>False</td>\n",
              "      <td>False</td>\n",
              "      <td>False</td>\n",
              "      <td>False</td>\n",
              "      <td>False</td>\n",
              "      <td>...</td>\n",
              "      <td>False</td>\n",
              "      <td>False</td>\n",
              "      <td>False</td>\n",
              "      <td>False</td>\n",
              "      <td>False</td>\n",
              "      <td>False</td>\n",
              "      <td>False</td>\n",
              "      <td>False</td>\n",
              "      <td>False</td>\n",
              "      <td>False</td>\n",
              "    </tr>\n",
              "    <tr>\n",
              "      <th>3</th>\n",
              "      <td>False</td>\n",
              "      <td>False</td>\n",
              "      <td>False</td>\n",
              "      <td>False</td>\n",
              "      <td>False</td>\n",
              "      <td>False</td>\n",
              "      <td>False</td>\n",
              "      <td>False</td>\n",
              "      <td>False</td>\n",
              "      <td>False</td>\n",
              "      <td>...</td>\n",
              "      <td>False</td>\n",
              "      <td>False</td>\n",
              "      <td>False</td>\n",
              "      <td>False</td>\n",
              "      <td>False</td>\n",
              "      <td>False</td>\n",
              "      <td>False</td>\n",
              "      <td>False</td>\n",
              "      <td>False</td>\n",
              "      <td>False</td>\n",
              "    </tr>\n",
              "    <tr>\n",
              "      <th>4</th>\n",
              "      <td>False</td>\n",
              "      <td>False</td>\n",
              "      <td>False</td>\n",
              "      <td>False</td>\n",
              "      <td>False</td>\n",
              "      <td>False</td>\n",
              "      <td>False</td>\n",
              "      <td>False</td>\n",
              "      <td>False</td>\n",
              "      <td>False</td>\n",
              "      <td>...</td>\n",
              "      <td>False</td>\n",
              "      <td>False</td>\n",
              "      <td>False</td>\n",
              "      <td>False</td>\n",
              "      <td>False</td>\n",
              "      <td>False</td>\n",
              "      <td>False</td>\n",
              "      <td>False</td>\n",
              "      <td>False</td>\n",
              "      <td>False</td>\n",
              "    </tr>\n",
              "    <tr>\n",
              "      <th>...</th>\n",
              "      <td>...</td>\n",
              "      <td>...</td>\n",
              "      <td>...</td>\n",
              "      <td>...</td>\n",
              "      <td>...</td>\n",
              "      <td>...</td>\n",
              "      <td>...</td>\n",
              "      <td>...</td>\n",
              "      <td>...</td>\n",
              "      <td>...</td>\n",
              "      <td>...</td>\n",
              "      <td>...</td>\n",
              "      <td>...</td>\n",
              "      <td>...</td>\n",
              "      <td>...</td>\n",
              "      <td>...</td>\n",
              "      <td>...</td>\n",
              "      <td>...</td>\n",
              "      <td>...</td>\n",
              "      <td>...</td>\n",
              "      <td>...</td>\n",
              "    </tr>\n",
              "    <tr>\n",
              "      <th>9012</th>\n",
              "      <td>False</td>\n",
              "      <td>False</td>\n",
              "      <td>False</td>\n",
              "      <td>False</td>\n",
              "      <td>False</td>\n",
              "      <td>False</td>\n",
              "      <td>False</td>\n",
              "      <td>False</td>\n",
              "      <td>False</td>\n",
              "      <td>False</td>\n",
              "      <td>...</td>\n",
              "      <td>False</td>\n",
              "      <td>False</td>\n",
              "      <td>False</td>\n",
              "      <td>False</td>\n",
              "      <td>False</td>\n",
              "      <td>False</td>\n",
              "      <td>False</td>\n",
              "      <td>False</td>\n",
              "      <td>False</td>\n",
              "      <td>False</td>\n",
              "    </tr>\n",
              "    <tr>\n",
              "      <th>9013</th>\n",
              "      <td>False</td>\n",
              "      <td>False</td>\n",
              "      <td>False</td>\n",
              "      <td>False</td>\n",
              "      <td>False</td>\n",
              "      <td>False</td>\n",
              "      <td>False</td>\n",
              "      <td>False</td>\n",
              "      <td>False</td>\n",
              "      <td>False</td>\n",
              "      <td>...</td>\n",
              "      <td>False</td>\n",
              "      <td>False</td>\n",
              "      <td>False</td>\n",
              "      <td>False</td>\n",
              "      <td>False</td>\n",
              "      <td>False</td>\n",
              "      <td>False</td>\n",
              "      <td>False</td>\n",
              "      <td>False</td>\n",
              "      <td>False</td>\n",
              "    </tr>\n",
              "    <tr>\n",
              "      <th>9014</th>\n",
              "      <td>False</td>\n",
              "      <td>False</td>\n",
              "      <td>False</td>\n",
              "      <td>False</td>\n",
              "      <td>False</td>\n",
              "      <td>False</td>\n",
              "      <td>False</td>\n",
              "      <td>False</td>\n",
              "      <td>False</td>\n",
              "      <td>False</td>\n",
              "      <td>...</td>\n",
              "      <td>False</td>\n",
              "      <td>False</td>\n",
              "      <td>False</td>\n",
              "      <td>False</td>\n",
              "      <td>False</td>\n",
              "      <td>False</td>\n",
              "      <td>False</td>\n",
              "      <td>False</td>\n",
              "      <td>False</td>\n",
              "      <td>False</td>\n",
              "    </tr>\n",
              "    <tr>\n",
              "      <th>9015</th>\n",
              "      <td>False</td>\n",
              "      <td>False</td>\n",
              "      <td>False</td>\n",
              "      <td>False</td>\n",
              "      <td>False</td>\n",
              "      <td>False</td>\n",
              "      <td>False</td>\n",
              "      <td>False</td>\n",
              "      <td>False</td>\n",
              "      <td>False</td>\n",
              "      <td>...</td>\n",
              "      <td>False</td>\n",
              "      <td>False</td>\n",
              "      <td>False</td>\n",
              "      <td>False</td>\n",
              "      <td>False</td>\n",
              "      <td>False</td>\n",
              "      <td>False</td>\n",
              "      <td>False</td>\n",
              "      <td>False</td>\n",
              "      <td>False</td>\n",
              "    </tr>\n",
              "    <tr>\n",
              "      <th>9016</th>\n",
              "      <td>False</td>\n",
              "      <td>False</td>\n",
              "      <td>False</td>\n",
              "      <td>False</td>\n",
              "      <td>False</td>\n",
              "      <td>False</td>\n",
              "      <td>False</td>\n",
              "      <td>False</td>\n",
              "      <td>False</td>\n",
              "      <td>False</td>\n",
              "      <td>...</td>\n",
              "      <td>False</td>\n",
              "      <td>False</td>\n",
              "      <td>False</td>\n",
              "      <td>False</td>\n",
              "      <td>False</td>\n",
              "      <td>False</td>\n",
              "      <td>False</td>\n",
              "      <td>False</td>\n",
              "      <td>False</td>\n",
              "      <td>False</td>\n",
              "    </tr>\n",
              "  </tbody>\n",
              "</table>\n",
              "<p>9017 rows × 34 columns</p>\n",
              "</div>\n",
              "      <button class=\"colab-df-convert\" onclick=\"convertToInteractive('df-2badefe9-70f0-4f01-95db-bd46f0fa29d5')\"\n",
              "              title=\"Convert this dataframe to an interactive table.\"\n",
              "              style=\"display:none;\">\n",
              "        \n",
              "  <svg xmlns=\"http://www.w3.org/2000/svg\" height=\"24px\"viewBox=\"0 0 24 24\"\n",
              "       width=\"24px\">\n",
              "    <path d=\"M0 0h24v24H0V0z\" fill=\"none\"/>\n",
              "    <path d=\"M18.56 5.44l.94 2.06.94-2.06 2.06-.94-2.06-.94-.94-2.06-.94 2.06-2.06.94zm-11 1L8.5 8.5l.94-2.06 2.06-.94-2.06-.94L8.5 2.5l-.94 2.06-2.06.94zm10 10l.94 2.06.94-2.06 2.06-.94-2.06-.94-.94-2.06-.94 2.06-2.06.94z\"/><path d=\"M17.41 7.96l-1.37-1.37c-.4-.4-.92-.59-1.43-.59-.52 0-1.04.2-1.43.59L10.3 9.45l-7.72 7.72c-.78.78-.78 2.05 0 2.83L4 21.41c.39.39.9.59 1.41.59.51 0 1.02-.2 1.41-.59l7.78-7.78 2.81-2.81c.8-.78.8-2.07 0-2.86zM5.41 20L4 18.59l7.72-7.72 1.47 1.35L5.41 20z\"/>\n",
              "  </svg>\n",
              "      </button>\n",
              "      \n",
              "  <style>\n",
              "    .colab-df-container {\n",
              "      display:flex;\n",
              "      flex-wrap:wrap;\n",
              "      gap: 12px;\n",
              "    }\n",
              "\n",
              "    .colab-df-convert {\n",
              "      background-color: #E8F0FE;\n",
              "      border: none;\n",
              "      border-radius: 50%;\n",
              "      cursor: pointer;\n",
              "      display: none;\n",
              "      fill: #1967D2;\n",
              "      height: 32px;\n",
              "      padding: 0 0 0 0;\n",
              "      width: 32px;\n",
              "    }\n",
              "\n",
              "    .colab-df-convert:hover {\n",
              "      background-color: #E2EBFA;\n",
              "      box-shadow: 0px 1px 2px rgba(60, 64, 67, 0.3), 0px 1px 3px 1px rgba(60, 64, 67, 0.15);\n",
              "      fill: #174EA6;\n",
              "    }\n",
              "\n",
              "    [theme=dark] .colab-df-convert {\n",
              "      background-color: #3B4455;\n",
              "      fill: #D2E3FC;\n",
              "    }\n",
              "\n",
              "    [theme=dark] .colab-df-convert:hover {\n",
              "      background-color: #434B5C;\n",
              "      box-shadow: 0px 1px 3px 1px rgba(0, 0, 0, 0.15);\n",
              "      filter: drop-shadow(0px 1px 2px rgba(0, 0, 0, 0.3));\n",
              "      fill: #FFFFFF;\n",
              "    }\n",
              "  </style>\n",
              "\n",
              "      <script>\n",
              "        const buttonEl =\n",
              "          document.querySelector('#df-2badefe9-70f0-4f01-95db-bd46f0fa29d5 button.colab-df-convert');\n",
              "        buttonEl.style.display =\n",
              "          google.colab.kernel.accessAllowed ? 'block' : 'none';\n",
              "\n",
              "        async function convertToInteractive(key) {\n",
              "          const element = document.querySelector('#df-2badefe9-70f0-4f01-95db-bd46f0fa29d5');\n",
              "          const dataTable =\n",
              "            await google.colab.kernel.invokeFunction('convertToInteractive',\n",
              "                                                     [key], {});\n",
              "          if (!dataTable) return;\n",
              "\n",
              "          const docLinkHtml = 'Like what you see? Visit the ' +\n",
              "            '<a target=\"_blank\" href=https://colab.research.google.com/notebooks/data_table.ipynb>data table notebook</a>'\n",
              "            + ' to learn more about interactive tables.';\n",
              "          element.innerHTML = '';\n",
              "          dataTable['output_type'] = 'display_data';\n",
              "          await google.colab.output.renderOutput(dataTable, element);\n",
              "          const docLink = document.createElement('div');\n",
              "          docLink.innerHTML = docLinkHtml;\n",
              "          element.appendChild(docLink);\n",
              "        }\n",
              "      </script>\n",
              "    </div>\n",
              "  </div>\n",
              "  "
            ]
          },
          "metadata": {},
          "execution_count": 6
        }
      ],
      "source": [
        "data.isnull()"
      ]
    },
    {
      "cell_type": "code",
      "execution_count": null,
      "metadata": {
        "colab": {
          "base_uri": "https://localhost:8080/"
        },
        "id": "i-vm2TAN5Z9I",
        "outputId": "4e75e896-fb0d-44c8-87a9-0deded713727"
      },
      "outputs": [
        {
          "output_type": "stream",
          "name": "stdout",
          "text": [
            "The continuous variables are:  ['YEAR', 'MURDER', 'ATTEMPT TO MURDER', 'CULPABLE HOMICIDE NOT AMOUNTING TO MURDER', 'RAPE', 'CUSTODIAL RAPE', 'OTHER RAPE', 'KIDNAPPING & ABDUCTION', 'KIDNAPPING AND ABDUCTION OF WOMEN AND GIRLS', 'KIDNAPPING AND ABDUCTION OF OTHERS', 'DACOITY', 'PREPARATION AND ASSEMBLY FOR DACOITY', 'ROBBERY', 'BURGLARY', 'THEFT', 'AUTO THEFT', 'OTHER THEFT', 'RIOTS', 'CRIMINAL BREACH OF TRUST', 'CHEATING', 'COUNTERFIETING', 'ARSON', 'HURT/GREVIOUS HURT', 'DOWRY DEATHS', 'ASSAULT ON WOMEN WITH INTENT TO OUTRAGE HER MODESTY', 'INSULT TO MODESTY OF WOMEN', 'CRUELTY BY HUSBAND OR HIS RELATIVES', 'IMPORTATION OF GIRLS FROM FOREIGN COUNTRIES', 'CAUSING DEATH BY NEGLIGENCE', 'OTHER IPC CRIMES', 'TOTAL IPC CRIMES', 'CRIME']\n"
          ]
        }
      ],
      "source": [
        "cont = data._get_numeric_data().columns\n",
        "print(\"The continuous variables are: \",list(cont))"
      ]
    },
    {
      "cell_type": "code",
      "execution_count": null,
      "metadata": {
        "colab": {
          "base_uri": "https://localhost:8080/"
        },
        "id": "sVNhzFdb6LQh",
        "outputId": "e0e9e7dd-71bc-49b9-e30f-c88979048c26"
      },
      "outputs": [
        {
          "output_type": "stream",
          "name": "stdout",
          "text": [
            "The categorical variables are:  ['STATE/UT', 'DISTRICT']\n"
          ]
        }
      ],
      "source": [
        "print(\"The categorical variables are: \",list(set(data.columns) - set(cont)))"
      ]
    },
    {
      "cell_type": "code",
      "execution_count": null,
      "metadata": {
        "colab": {
          "base_uri": "https://localhost:8080/"
        },
        "id": "SYbzb_4AxhTt",
        "outputId": "30bdc888-c50b-4d92-c018-b87e3e9ccec4"
      },
      "outputs": [
        {
          "output_type": "execute_result",
          "data": {
            "text/plain": [
              "UTTAR PRADESH        878\n",
              "MADHYA PRADESH       628\n",
              "MAHARASHTRA          552\n",
              "BIHAR                540\n",
              "TAMIL NADU           469\n",
              "RAJASTHAN            454\n",
              "ODISHA               430\n",
              "KARNATAKA            399\n",
              "GUJARAT              384\n",
              "ANDHRA PRADESH       370\n",
              "ASSAM                362\n",
              "JAMMU & KASHMIR      322\n",
              "PUNJAB               314\n",
              "JHARKHAND            312\n",
              "WEST BENGAL          309\n",
              "HARYANA              268\n",
              "CHHATTISGARH         266\n",
              "KERALA               233\n",
              "ARUNACHAL PRADESH    195\n",
              "DELHI UT             183\n",
              "HIMACHAL PRADESH     176\n",
              "UTTARAKHAND          168\n",
              "NAGALAND             138\n",
              "MANIPUR              125\n",
              "MIZORAM              108\n",
              "MEGHALAYA             96\n",
              "TRIPURA               67\n",
              "SIKKIM                60\n",
              "A & N ISLANDS         36\n",
              "DAMAN & DIU           36\n",
              "GOA                   36\n",
              "PUDUCHERRY            31\n",
              "CHANDIGARH            24\n",
              "D & N HAVELI          24\n",
              "LAKSHADWEEP           24\n",
              "Name: STATE/UT, dtype: int64"
            ]
          },
          "metadata": {},
          "execution_count": 9
        }
      ],
      "source": [
        "data['STATE/UT'].value_counts()"
      ]
    },
    {
      "cell_type": "code",
      "execution_count": null,
      "metadata": {
        "colab": {
          "base_uri": "https://localhost:8080/"
        },
        "id": "imKc_nkgIaJ1",
        "outputId": "f7664341-989e-44c0-8ea2-87a52ddead92"
      },
      "outputs": [
        {
          "output_type": "execute_result",
          "data": {
            "text/plain": [
              "False    7509\n",
              "True     1508\n",
              "Name: CRIME, dtype: int64"
            ]
          },
          "metadata": {},
          "execution_count": 10
        }
      ],
      "source": [
        "data['CRIME'].value_counts()"
      ]
    },
    {
      "cell_type": "markdown",
      "metadata": {
        "id": "GKO_v6ym_xML"
      },
      "source": [
        "**Data Visualization**"
      ]
    },
    {
      "cell_type": "code",
      "execution_count": null,
      "metadata": {
        "colab": {
          "base_uri": "https://localhost:8080/",
          "height": 624
        },
        "id": "k9PNQ6DHyJYs",
        "outputId": "d5bd9691-03fc-4bd2-e84a-14f368c2cbcc"
      },
      "outputs": [
        {
          "output_type": "execute_result",
          "data": {
            "text/plain": [
              "<matplotlib.axes._subplots.AxesSubplot at 0x7fbda41a0c10>"
            ]
          },
          "metadata": {},
          "execution_count": 11
        },
        {
          "output_type": "display_data",
          "data": {
            "text/plain": [
              "<Figure size 1080x720 with 1 Axes>"
            ],
            "image/png": "[encoded data removed]"
          },
          "metadata": {
            "needs_background": "light"
          }
        }
      ],
      "source": [
        "plt.figure(figsize = (15, 10))\n",
        "sns.countplot(y= 'STATE/UT', data = data, order = data['STATE/UT'].value_counts().iloc[:40].index)"
      ]
    },
    {
      "cell_type": "code",
      "execution_count": null,
      "metadata": {
        "colab": {
          "base_uri": "https://localhost:8080/",
          "height": 627
        },
        "id": "S7Yfsxnw0q8_",
        "outputId": "62197a10-2835-41be-f956-1cfceb6801ea"
      },
      "outputs": [
        {
          "output_type": "execute_result",
          "data": {
            "text/plain": [
              "<matplotlib.axes._subplots.AxesSubplot at 0x7fbda3a3dfd0>"
            ]
          },
          "metadata": {},
          "execution_count": 12
        },
        {
          "output_type": "display_data",
          "data": {
            "text/plain": [
              "<Figure size 1080x720 with 1 Axes>"
            ],
            "image/png": "[encoded data removed]"
          },
          "metadata": {
            "needs_background": "light"
          }
        }
      ],
      "source": [
        "plt.figure(figsize = (15, 10))\n",
        "sns.countplot(y= 'DISTRICT', data = data, order = data['DISTRICT'].value_counts().iloc[:10000].index)"
      ]
    },
    {
      "cell_type": "code",
      "execution_count": null,
      "metadata": {
        "colab": {
          "base_uri": "https://localhost:8080/",
          "height": 313
        },
        "id": "964f4dlo14QI",
        "outputId": "2bb5ecb9-d640-4be2-c882-60fe6309010b"
      },
      "outputs": [
        {
          "output_type": "execute_result",
          "data": {
            "text/plain": [
              "Text(0, 0.5, 'Number of Crimes')"
            ]
          },
          "metadata": {},
          "execution_count": 13
        },
        {
          "output_type": "display_data",
          "data": {
            "text/plain": [
              "<Figure size 432x288 with 1 Axes>"
            ],
            "image/png": "[encoded data removed]"
          },
          "metadata": {
            "needs_background": "light"
          }
        }
      ],
      "source": [
        "plt.plot(data['YEAR'].value_counts())\n",
        "plt.title('Crimes Count Per Year')\n",
        "plt.xlabel('Years')\n",
        "plt.ylabel('Number of Crimes')"
      ]
    },
    {
      "cell_type": "code",
      "execution_count": null,
      "metadata": {
        "colab": {
          "base_uri": "https://localhost:8080/",
          "height": 639
        },
        "id": "2S3kgTgZ9Va9",
        "outputId": "54cbdac6-b45f-43fd-f1f5-5556a37ab359"
      },
      "outputs": [
        {
          "output_type": "execute_result",
          "data": {
            "text/plain": [
              "Text(0.5, 1.0, 'TOTAL CRIME RATE ')"
            ]
          },
          "metadata": {},
          "execution_count": 14
        },
        {
          "output_type": "display_data",
          "data": {
            "text/plain": [
              "<Figure size 1080x720 with 1 Axes>"
            ],
            "image/png": "[encoded data removed]"
          },
          "metadata": {
            "needs_background": "light"
          }
        }
      ],
      "source": [
        "plt.figure(figsize = (15, 10))\n",
        "sns.countplot(y= 'TOTAL IPC CRIMES', data = data, order = data['TOTAL IPC CRIMES'].value_counts().iloc[:10000].index)\n",
        "plt.title(\"TOTAL CRIME RATE \")"
      ]
    },
    {
      "cell_type": "code",
      "execution_count": null,
      "metadata": {
        "colab": {
          "base_uri": "https://localhost:8080/"
        },
        "id": "dK4eeioiRlLa",
        "outputId": "5f9fc587-28d9-428f-aba8-e699c996211c"
      },
      "outputs": [
        {
          "output_type": "stream",
          "name": "stdout",
          "text": [
            "False    7509\n",
            "True     1508\n",
            "Name: CRIME, dtype: int64\n"
          ]
        }
      ],
      "source": [
        "print(data['CRIME'].value_counts())"
      ]
    },
    {
      "cell_type": "code",
      "execution_count": null,
      "metadata": {
        "colab": {
          "base_uri": "https://localhost:8080/"
        },
        "id": "Ll6lSRzVMpny",
        "outputId": "4bbe3af4-5773-44c0-cfcf-5b6cbdc29378"
      },
      "outputs": [
        {
          "output_type": "execute_result",
          "data": {
            "text/plain": [
              "array([ 1,  2,  3,  4,  6, 10, 11, 12, 13, 14, 15, 16, 17, 19, 20, 21, 22,\n",
              "       23, 24, 25, 27, 28, 29, 30, 31, 32, 33, 34,  0,  5,  7,  8,  9, 18,\n",
              "       26])"
            ]
          },
          "metadata": {},
          "execution_count": 43
        }
      ],
      "source": [
        "label_encoder = preprocessing.LabelEncoder()\n",
        "data['STATE/UT']= label_encoder.fit_transform(data['STATE/UT'])\n",
        "data['STATE/UT'].unique()"
      ]
    },
    {
      "cell_type": "code",
      "source": [
        "data['YEAR']= label_encoder.fit_transform(data['YEAR'])\n",
        "data['YEAR'].unique()"
      ],
      "metadata": {
        "colab": {
          "base_uri": "https://localhost:8080/"
        },
        "id": "ogPq9ARFyLLg",
        "outputId": "e62270b9-fd72-4924-8fca-d0a69cfed687"
      },
      "execution_count": null,
      "outputs": [
        {
          "output_type": "execute_result",
          "data": {
            "text/plain": [
              "array([ 0,  1,  2,  3,  4,  5,  6,  7,  8,  9, 10, 11])"
            ]
          },
          "metadata": {},
          "execution_count": 23
        }
      ]
    },
    {
      "cell_type": "code",
      "execution_count": null,
      "metadata": {
        "id": "fZCosTwwJzIg"
      },
      "outputs": [],
      "source": [
        "# Converting True & False value into 0 & 1\n",
        "data[\"CRIME\"] = data[\"CRIME\"].astype(int)"
      ]
    },
    {
      "cell_type": "markdown",
      "metadata": {
        "id": "CGDyuBbV_30p"
      },
      "source": [
        "**GRAPH TO VISUALIZE WHICH PREDICTION CAN BE USE**"
      ]
    },
    {
      "cell_type": "code",
      "execution_count": null,
      "metadata": {
        "id": "S7weJdp6C3Gr",
        "colab": {
          "base_uri": "https://localhost:8080/",
          "height": 387
        },
        "outputId": "71928faf-9606-4b7f-9665-2a7dde3f73b2"
      },
      "outputs": [
        {
          "output_type": "execute_result",
          "data": {
            "text/plain": [
              "<seaborn.axisgrid.FacetGrid at 0x7fbd45ec4510>"
            ]
          },
          "metadata": {},
          "execution_count": 31
        },
        {
          "output_type": "display_data",
          "data": {
            "text/plain": [
              "<Figure size 360x360 with 1 Axes>"
            ],
            "image/png": "[encoded data removed]"
          },
          "metadata": {
            "needs_background": "light"
          }
        }
      ],
      "source": [
        "sns.relplot(x='YEAR',y='TOTAL IPC CRIMES',data=data)"
      ]
    },
    {
      "cell_type": "code",
      "execution_count": null,
      "metadata": {
        "id": "Ha0JLRGmFyVs",
        "colab": {
          "base_uri": "https://localhost:8080/",
          "height": 387
        },
        "outputId": "01859fb9-246b-4f63-a946-c606b895bf86"
      },
      "outputs": [
        {
          "output_type": "execute_result",
          "data": {
            "text/plain": [
              "<seaborn.axisgrid.FacetGrid at 0x7fbd469125d0>"
            ]
          },
          "metadata": {},
          "execution_count": 32
        },
        {
          "output_type": "display_data",
          "data": {
            "text/plain": [
              "<Figure size 402.375x360 with 1 Axes>"
            ],
            "image/png": "[encoded data removed]"
          },
          "metadata": {
            "needs_background": "light"
          }
        }
      ],
      "source": [
        "#Crime Rate Greater than 5000 in District\n",
        "sns.relplot(x='DISTRICT', y = 'TOTAL IPC CRIMES', hue = 'CRIME',data=data)"
      ]
    },
    {
      "cell_type": "code",
      "execution_count": null,
      "metadata": {
        "id": "ZLcIjxaZGqeh",
        "colab": {
          "base_uri": "https://localhost:8080/",
          "height": 387
        },
        "outputId": "2c8a60a6-efd8-447d-8ec8-183fdcee9e2f"
      },
      "outputs": [
        {
          "output_type": "execute_result",
          "data": {
            "text/plain": [
              "<seaborn.axisgrid.FacetGrid at 0x7fbd43408bd0>"
            ]
          },
          "metadata": {},
          "execution_count": 33
        },
        {
          "output_type": "display_data",
          "data": {
            "text/plain": [
              "<Figure size 360x360 with 1 Axes>"
            ],
            "image/png": "[encoded data removed]"
          },
          "metadata": {
            "needs_background": "light"
          }
        }
      ],
      "source": [
        "sns.relplot(x=\"TOTAL IPC CRIMES\" , y = \"RAPE\" , data=data)"
      ]
    },
    {
      "cell_type": "markdown",
      "metadata": {
        "id": "0u8v_NIMWbOJ"
      },
      "source": [
        "**Splitting Data in Into Train & Test**"
      ]
    },
    {
      "cell_type": "code",
      "execution_count": null,
      "metadata": {
        "id": "vclVkcycRPos"
      },
      "outputs": [],
      "source": [
        "data.drop([\"STATE/UT\",\"DISTRICT\",\"TOTAL IPC CRIMES\",\"CRIME\"],axis =1)\n",
        "X = data.iloc[:, 2:-1].values\n",
        "y = data.iloc[:, 33].values"
      ]
    },
    {
      "cell_type": "code",
      "execution_count": null,
      "metadata": {
        "id": "t8xKHZctNORC"
      },
      "outputs": [],
      "source": [
        "X_train, X_test, y_train, y_test = train_test_split(X, y, test_size=0.2, random_state=4)"
      ]
    },
    {
      "cell_type": "code",
      "execution_count": null,
      "metadata": {
        "id": "V3yOYMRJQoSM"
      },
      "outputs": [],
      "source": [
        "from sklearn.preprocessing import StandardScaler\n",
        "scaler = StandardScaler()\n",
        "scaler.fit(X_train)\n",
        "\n",
        "X_train = scaler.transform(X_train)\n",
        "X_test = scaler.transform(X_test)"
      ]
    },
    {
      "cell_type": "markdown",
      "source": [
        "#KNN is used to Predict the Crime Rate "
      ],
      "metadata": {
        "id": "k459Edvd5eju"
      }
    },
    {
      "cell_type": "code",
      "execution_count": null,
      "metadata": {
        "id": "S_XiXE44QrXU",
        "colab": {
          "base_uri": "https://localhost:8080/"
        },
        "outputId": "a13850c2-18d8-4be5-e998-47d551cb43d1"
      },
      "outputs": [
        {
          "output_type": "execute_result",
          "data": {
            "text/plain": [
              "KNeighborsClassifier()"
            ]
          },
          "metadata": {},
          "execution_count": 98
        }
      ],
      "source": [
        "from sklearn.neighbors import KNeighborsClassifier\n",
        "classifier = KNeighborsClassifier(n_neighbors=5)\n",
        "classifier.fit(X_train, y_train)"
      ]
    },
    {
      "cell_type": "code",
      "execution_count": null,
      "metadata": {
        "id": "AwNzz6wyQtMW"
      },
      "outputs": [],
      "source": [
        "y_pred = classifier.predict(X_test)"
      ]
    },
    {
      "cell_type": "code",
      "execution_count": null,
      "metadata": {
        "id": "RN2Y_a40QwPn",
        "colab": {
          "base_uri": "https://localhost:8080/"
        },
        "outputId": "38f169b1-4b60-42cc-9a8b-3da06fe8d28f"
      },
      "outputs": [
        {
          "output_type": "stream",
          "name": "stdout",
          "text": [
            "[[1508    0]\n",
            " [ 227   69]]\n",
            "              precision    recall  f1-score   support\n",
            "\n",
            "           0       0.87      1.00      0.93      1508\n",
            "           1       1.00      0.23      0.38       296\n",
            "\n",
            "    accuracy                           0.87      1804\n",
            "   macro avg       0.93      0.62      0.65      1804\n",
            "weighted avg       0.89      0.87      0.84      1804\n",
            "\n"
          ]
        }
      ],
      "source": [
        "from sklearn.metrics import classification_report, confusion_matrix\n",
        "print(confusion_matrix(y_test, y_pred))\n",
        "print(classification_report(y_test, y_pred))"
      ]
    },
    {
      "cell_type": "code",
      "execution_count": null,
      "metadata": {
        "id": "Lb5WZDwOQwM4"
      },
      "outputs": [],
      "source": [
        "error = []\n",
        "\n",
        "# Calculating error for K values between 1 and 100\n",
        "for i in range(1, 100):\n",
        "    knn = KNeighborsClassifier(n_neighbors=i)\n",
        "    knn.fit(X_train, y_train)\n",
        "    pred_i = knn.predict(X_test)\n",
        "    error.append(np.mean(pred_i != y_test))"
      ]
    },
    {
      "cell_type": "code",
      "execution_count": null,
      "metadata": {
        "id": "BI5S4SUmYHh-",
        "colab": {
          "base_uri": "https://localhost:8080/",
          "height": 422
        },
        "outputId": "9165f8a0-22f9-4cc7-8e13-58fb892b3df2"
      },
      "outputs": [
        {
          "output_type": "execute_result",
          "data": {
            "text/plain": [
              "Text(0, 0.5, 'Mean Error')"
            ]
          },
          "metadata": {},
          "execution_count": 107
        },
        {
          "output_type": "display_data",
          "data": {
            "text/plain": [
              "<Figure size 864x432 with 1 Axes>"
            ],
            "image/png": "[encoded data removed]"
          },
          "metadata": {
            "needs_background": "light"
          }
        }
      ],
      "source": [
        "plt.figure(figsize=(12, 6))\n",
        "plt.plot(range(1, 100), error, color='red', linestyle='dashed', marker='o', markerfacecolor='blue', markersize=10)\n",
        "plt.title('Error Rate K Value')\n",
        "plt.xlabel('K Value')\n",
        "plt.ylabel('Mean Error')"
      ]
    },
    {
      "cell_type": "code",
      "execution_count": null,
      "metadata": {
        "id": "ETM7sw4kAkCm",
        "colab": {
          "base_uri": "https://localhost:8080/"
        },
        "outputId": "56f10a6a-8431-451a-ab04-fef16ffbae42"
      },
      "outputs": [
        {
          "output_type": "execute_result",
          "data": {
            "text/plain": [
              "LogisticRegression()"
            ]
          },
          "metadata": {},
          "execution_count": 44
        }
      ],
      "source": [
        "logreg = LogisticRegression()\n",
        "logreg.fit(X_train, y_train)"
      ]
    },
    {
      "cell_type": "code",
      "execution_count": null,
      "metadata": {
        "id": "bA4n3kS9AlhB",
        "colab": {
          "base_uri": "https://localhost:8080/"
        },
        "outputId": "f7df4130-e9bd-4530-df99-57ceb8788d65"
      },
      "outputs": [
        {
          "output_type": "stream",
          "name": "stdout",
          "text": [
            "0.9861419068736141\n"
          ]
        }
      ],
      "source": [
        "y_pred = logreg.predict(X_test)\n",
        "# compare actual response values (y_test) with predicted response values (y_pred)\n",
        "print(metrics.accuracy_score(y_test, y_pred))"
      ]
    },
    {
      "cell_type": "code",
      "execution_count": null,
      "metadata": {
        "id": "IzgfsqKBAo4T",
        "colab": {
          "base_uri": "https://localhost:8080/"
        },
        "outputId": "2cc1d887-40ac-45b6-ac15-77ca011f9688"
      },
      "outputs": [
        {
          "output_type": "stream",
          "name": "stdout",
          "text": [
            "0.9628603104212861\n"
          ]
        }
      ],
      "source": [
        "from sklearn.neighbors import KNeighborsClassifier\n",
        "knn = KNeighborsClassifier(n_neighbors=5)\n",
        "knn.fit(X_train, y_train)\n",
        "y_pred = knn.predict(X_test)\n",
        "print(metrics.accuracy_score(y_test, y_pred))"
      ]
    },
    {
      "cell_type": "code",
      "execution_count": null,
      "metadata": {
        "id": "FAVlNjipBAAp",
        "colab": {
          "base_uri": "https://localhost:8080/"
        },
        "outputId": "b20b88bb-3087-4de8-ce5d-d04fa4f3be6d"
      },
      "outputs": [
        {
          "output_type": "stream",
          "name": "stdout",
          "text": [
            "[0.9212860310421286, 0.9218403547671841, 0.9207317073170732, 0.9212860310421286, 0.9212860310421286, 0.9218403547671841, 0.9212860310421286, 0.9212860310421286, 0.9207317073170732, 0.9207317073170732, 0.9201773835920177, 0.9201773835920177, 0.9196230598669624, 0.9201773835920177, 0.9190687361419069, 0.9196230598669624, 0.9190687361419069, 0.9196230598669624, 0.9185144124168514, 0.9185144124168514, 0.9185144124168514, 0.9185144124168514, 0.917960088691796, 0.9196230598669624, 0.9190687361419069, 0.9196230598669624, 0.9190687361419069, 0.9196230598669624, 0.9174057649667405, 0.917960088691796, 0.9168514412416852, 0.917960088691796, 0.9168514412416852, 0.9174057649667405, 0.9162971175166297, 0.9162971175166297, 0.9162971175166297, 0.9168514412416852, 0.9157427937915743, 0.9157427937915743, 0.9157427937915743, 0.9157427937915743, 0.9151884700665188, 0.9162971175166297, 0.9157427937915743, 0.9162971175166297, 0.9162971175166297, 0.9162971175166297, 0.9157427937915743, 0.9157427937915743, 0.9151884700665188, 0.9157427937915743, 0.9157427937915743, 0.9162971175166297, 0.9146341463414634, 0.9162971175166297, 0.9151884700665188, 0.9157427937915743, 0.9151884700665188, 0.9157427937915743, 0.9146341463414634, 0.9151884700665188, 0.914079822616408, 0.9146341463414634, 0.914079822616408, 0.9146341463414634, 0.914079822616408, 0.9146341463414634, 0.914079822616408, 0.914079822616408, 0.914079822616408, 0.9146341463414634, 0.914079822616408, 0.914079822616408, 0.914079822616408, 0.914079822616408, 0.914079822616408, 0.914079822616408, 0.9135254988913526, 0.914079822616408, 0.9118625277161863, 0.9124168514412417, 0.9124168514412417, 0.9129711751662971, 0.9118625277161863, 0.9135254988913526, 0.9124168514412417, 0.9135254988913526, 0.9124168514412417, 0.9129711751662971, 0.9118625277161863, 0.9124168514412417, 0.9113082039911308, 0.9113082039911308, 0.9107538802660754, 0.9107538802660754, 0.9107538802660754, 0.9118625277161863, 0.9101995565410199, 0.9107538802660754, 0.9101995565410199, 0.9101995565410199, 0.9096452328159645, 0.9096452328159645, 0.9090909090909091, 0.9090909090909091, 0.9090909090909091, 0.9090909090909091, 0.9085365853658537, 0.9085365853658537, 0.9074279379157428, 0.9074279379157428, 0.9068736141906873, 0.9074279379157428, 0.9074279379157428, 0.9074279379157428, 0.9074279379157428, 0.9079822616407982, 0.9068736141906873, 0.9079822616407982, 0.9079822616407982, 0.9079822616407982, 0.9079822616407982, 0.9079822616407982, 0.9079822616407982, 0.9079822616407982, 0.9079822616407982, 0.9079822616407982, 0.9079822616407982, 0.9079822616407982, 0.9074279379157428, 0.9079822616407982, 0.906319290465632, 0.9074279379157428, 0.9046563192904656, 0.906319290465632, 0.9041019955654102, 0.9046563192904656, 0.9041019955654102, 0.9046563192904656, 0.9035476718403548, 0.9046563192904656, 0.9035476718403548, 0.9041019955654102, 0.9029933481152993, 0.9029933481152993, 0.9029933481152993, 0.9035476718403548, 0.9018847006651884, 0.9018847006651884, 0.9013303769401331, 0.9018847006651884, 0.9013303769401331, 0.9024390243902439, 0.9013303769401331, 0.9013303769401331, 0.9013303769401331, 0.9013303769401331, 0.9007760532150776, 0.9007760532150776, 0.9002217294900222, 0.9007760532150776, 0.9002217294900222, 0.9013303769401331, 0.8996674057649667, 0.9007760532150776, 0.9002217294900222, 0.9002217294900222, 0.8996674057649667, 0.9002217294900222, 0.8991130820399114, 0.8996674057649667, 0.8996674057649667, 0.8996674057649667, 0.8991130820399114, 0.8991130820399114, 0.8985587583148559, 0.8985587583148559, 0.897450110864745, 0.8980044345898004, 0.897450110864745, 0.8985587583148559, 0.8968957871396895, 0.897450110864745, 0.8968957871396895, 0.8968957871396895, 0.8968957871396895, 0.897450110864745, 0.8968957871396895, 0.8968957871396895, 0.8968957871396895, 0.8968957871396895, 0.8963414634146342, 0.8963414634146342, 0.8957871396895787, 0.8957871396895787, 0.8957871396895787, 0.8957871396895787, 0.8957871396895787, 0.8963414634146342, 0.8957871396895787, 0.8957871396895787, 0.8957871396895787, 0.8957871396895787, 0.8952328159645233, 0.8952328159645233, 0.8952328159645233, 0.8952328159645233, 0.8946784922394678, 0.8946784922394678, 0.8946784922394678, 0.8946784922394678, 0.8946784922394678, 0.8946784922394678, 0.8941241685144125, 0.8941241685144125, 0.8941241685144125, 0.8941241685144125, 0.893569844789357, 0.893569844789357, 0.8930155210643016, 0.8930155210643016, 0.8924611973392461, 0.8930155210643016, 0.8924611973392461, 0.8924611973392461, 0.8924611973392461, 0.8924611973392461, 0.8924611973392461, 0.8930155210643016, 0.8924611973392461, 0.8924611973392461, 0.8924611973392461, 0.8924611973392461, 0.8924611973392461, 0.8924611973392461, 0.8924611973392461, 0.8924611973392461, 0.8919068736141907, 0.8924611973392461, 0.8919068736141907, 0.8919068736141907, 0.8919068736141907, 0.8919068736141907, 0.8919068736141907, 0.8919068736141907, 0.8919068736141907, 0.8919068736141907, 0.8919068736141907, 0.8919068736141907, 0.8919068736141907, 0.8919068736141907, 0.8919068736141907, 0.8919068736141907, 0.8919068736141907, 0.8919068736141907, 0.8919068736141907, 0.8919068736141907, 0.8919068736141907, 0.8919068736141907, 0.8919068736141907, 0.8919068736141907, 0.8919068736141907, 0.8919068736141907, 0.8919068736141907, 0.8919068736141907, 0.8919068736141907, 0.8919068736141907, 0.8919068736141907, 0.8919068736141907, 0.8913525498891353, 0.8913525498891353, 0.8913525498891353, 0.8913525498891353, 0.8913525498891353, 0.8913525498891353, 0.8913525498891353, 0.8913525498891353, 0.8907982261640798, 0.8913525498891353, 0.8907982261640798, 0.8913525498891353, 0.8902439024390244, 0.8907982261640798, 0.8902439024390244, 0.8907982261640798, 0.8907982261640798, 0.8907982261640798, 0.8907982261640798, 0.8907982261640798, 0.8907982261640798, 0.8907982261640798, 0.8907982261640798, 0.8907982261640798, 0.8907982261640798, 0.8907982261640798, 0.8902439024390244, 0.8907982261640798, 0.8902439024390244, 0.8902439024390244, 0.8902439024390244, 0.8902439024390244, 0.8896895787139689, 0.8896895787139689, 0.8896895787139689, 0.8896895787139689, 0.8891352549889135, 0.8896895787139689, 0.8891352549889135, 0.8896895787139689, 0.8891352549889135, 0.8891352549889135, 0.8891352549889135, 0.8891352549889135, 0.8885809312638581, 0.8891352549889135, 0.8891352549889135, 0.8891352549889135, 0.8891352549889135, 0.8891352549889135, 0.8891352549889135, 0.8891352549889135, 0.8891352549889135, 0.8891352549889135, 0.8885809312638581, 0.8885809312638581, 0.8885809312638581, 0.8885809312638581, 0.8885809312638581, 0.8891352549889135, 0.8885809312638581, 0.8885809312638581, 0.8885809312638581, 0.8885809312638581, 0.8885809312638581, 0.8885809312638581, 0.8885809312638581, 0.8891352549889135, 0.8891352549889135, 0.8891352549889135, 0.8885809312638581, 0.8891352549889135, 0.8891352549889135, 0.8891352549889135, 0.8891352549889135, 0.8891352549889135, 0.8885809312638581, 0.8885809312638581, 0.8874722838137472, 0.8885809312638581, 0.8874722838137472, 0.8885809312638581, 0.8885809312638581, 0.8885809312638581, 0.8880266075388027, 0.8880266075388027, 0.8874722838137472, 0.8874722838137472, 0.8874722838137472, 0.8874722838137472, 0.8874722838137472, 0.8874722838137472, 0.8874722838137472, 0.8874722838137472, 0.8874722838137472, 0.8874722838137472, 0.8874722838137472, 0.8874722838137472, 0.8874722838137472, 0.8874722838137472, 0.8869179600886918, 0.8874722838137472, 0.8869179600886918, 0.8874722838137472, 0.885809312638581, 0.8863636363636364, 0.885809312638581, 0.885809312638581, 0.885809312638581, 0.8863636363636364, 0.885809312638581, 0.8863636363636364, 0.8863636363636364, 0.8863636363636364, 0.8852549889135255, 0.885809312638581, 0.8852549889135255, 0.8852549889135255, 0.8852549889135255, 0.8852549889135255, 0.8852549889135255, 0.8852549889135255, 0.8852549889135255, 0.8852549889135255, 0.8852549889135255, 0.8852549889135255, 0.88470066518847, 0.88470066518847, 0.88470066518847, 0.88470066518847, 0.88470066518847, 0.88470066518847, 0.88470066518847, 0.88470066518847, 0.88470066518847, 0.88470066518847, 0.88470066518847, 0.88470066518847, 0.88470066518847, 0.88470066518847, 0.88470066518847, 0.88470066518847, 0.8841463414634146, 0.8841463414634146, 0.8841463414634146, 0.8841463414634146, 0.8841463414634146, 0.8841463414634146, 0.8841463414634146, 0.8841463414634146, 0.8841463414634146, 0.8841463414634146, 0.8841463414634146, 0.8841463414634146, 0.8835920177383592, 0.8835920177383592, 0.8830376940133038, 0.8835920177383592, 0.8835920177383592, 0.8835920177383592, 0.8830376940133038, 0.8830376940133038, 0.8830376940133038, 0.8830376940133038, 0.8830376940133038, 0.8830376940133038, 0.8830376940133038, 0.8830376940133038, 0.8830376940133038, 0.8830376940133038, 0.8830376940133038, 0.8830376940133038, 0.8824833702882483, 0.8824833702882483, 0.8819290465631929, 0.8824833702882483, 0.8824833702882483, 0.8824833702882483, 0.8819290465631929, 0.8824833702882483, 0.8819290465631929, 0.8819290465631929, 0.8819290465631929, 0.8819290465631929, 0.8819290465631929, 0.8819290465631929, 0.8819290465631929, 0.8819290465631929, 0.8819290465631929, 0.8824833702882483, 0.8824833702882483, 0.8824833702882483, 0.8819290465631929, 0.8819290465631929, 0.8819290465631929, 0.8819290465631929, 0.8819290465631929, 0.8819290465631929, 0.8813747228381374, 0.8819290465631929, 0.8813747228381374, 0.8813747228381374, 0.8813747228381374, 0.8813747228381374, 0.8813747228381374, 0.8813747228381374, 0.8813747228381374, 0.8813747228381374, 0.8813747228381374, 0.8813747228381374, 0.8813747228381374, 0.8813747228381374, 0.8813747228381374, 0.8813747228381374, 0.8813747228381374, 0.8813747228381374, 0.8813747228381374, 0.8813747228381374, 0.8813747228381374, 0.8813747228381374, 0.8813747228381374, 0.8813747228381374, 0.8813747228381374, 0.8813747228381374, 0.8813747228381374, 0.8813747228381374, 0.8813747228381374, 0.8813747228381374, 0.8813747228381374, 0.8813747228381374, 0.8813747228381374, 0.8813747228381374, 0.8813747228381374, 0.8813747228381374, 0.8813747228381374, 0.8813747228381374, 0.8813747228381374, 0.8813747228381374, 0.8813747228381374, 0.8813747228381374, 0.8813747228381374, 0.8813747228381374, 0.8813747228381374, 0.8813747228381374, 0.8813747228381374, 0.8813747228381374, 0.8813747228381374, 0.8813747228381374, 0.8813747228381374, 0.8813747228381374, 0.8813747228381374, 0.8813747228381374, 0.8813747228381374, 0.8813747228381374, 0.8813747228381374, 0.8813747228381374, 0.8808203991130821, 0.8813747228381374, 0.8808203991130821, 0.8808203991130821, 0.8808203991130821, 0.8808203991130821, 0.8808203991130821, 0.8808203991130821, 0.8808203991130821, 0.8808203991130821, 0.8808203991130821, 0.8808203991130821, 0.8808203991130821, 0.8808203991130821, 0.8808203991130821, 0.8808203991130821, 0.8808203991130821, 0.8808203991130821, 0.8808203991130821, 0.8808203991130821, 0.8808203991130821, 0.8808203991130821, 0.8802660753880266, 0.8808203991130821, 0.8808203991130821, 0.8808203991130821, 0.8808203991130821, 0.8808203991130821, 0.8808203991130821, 0.8808203991130821, 0.8802660753880266, 0.8802660753880266, 0.8802660753880266, 0.8802660753880266, 0.8802660753880266, 0.8802660753880266, 0.8802660753880266, 0.8802660753880266, 0.8802660753880266, 0.8802660753880266, 0.8802660753880266, 0.8802660753880266, 0.8802660753880266, 0.8802660753880266, 0.8802660753880266, 0.8802660753880266, 0.8797117516629712, 0.8802660753880266, 0.8797117516629712, 0.8797117516629712, 0.8797117516629712, 0.8797117516629712, 0.8797117516629712, 0.8797117516629712, 0.8797117516629712, 0.8797117516629712, 0.8791574279379157, 0.8791574279379157, 0.8791574279379157, 0.8791574279379157, 0.8791574279379157, 0.8791574279379157, 0.8791574279379157, 0.8791574279379157, 0.8791574279379157, 0.8791574279379157, 0.8791574279379157, 0.8791574279379157, 0.8786031042128604, 0.8786031042128604, 0.8786031042128604, 0.8786031042128604, 0.8786031042128604, 0.8786031042128604, 0.8786031042128604, 0.8786031042128604, 0.8786031042128604, 0.8786031042128604, 0.8786031042128604, 0.8786031042128604, 0.8786031042128604, 0.8786031042128604, 0.8786031042128604, 0.8786031042128604, 0.8780487804878049, 0.8780487804878049, 0.8780487804878049, 0.8780487804878049, 0.8780487804878049, 0.8780487804878049, 0.8780487804878049, 0.8780487804878049, 0.8780487804878049, 0.8780487804878049, 0.8780487804878049, 0.8780487804878049, 0.8780487804878049, 0.8780487804878049, 0.8780487804878049, 0.8780487804878049, 0.8780487804878049, 0.8780487804878049, 0.8780487804878049, 0.8780487804878049, 0.8780487804878049, 0.8780487804878049, 0.8780487804878049, 0.8780487804878049, 0.8780487804878049, 0.8780487804878049, 0.8780487804878049, 0.8780487804878049, 0.8780487804878049, 0.8780487804878049, 0.8780487804878049, 0.8780487804878049, 0.8780487804878049, 0.8780487804878049, 0.8780487804878049, 0.8780487804878049, 0.8780487804878049, 0.8780487804878049, 0.8780487804878049, 0.8780487804878049, 0.8780487804878049, 0.8780487804878049, 0.8780487804878049, 0.8780487804878049, 0.8780487804878049, 0.8780487804878049, 0.8780487804878049, 0.8780487804878049, 0.8780487804878049, 0.8780487804878049, 0.8780487804878049, 0.8780487804878049, 0.8780487804878049, 0.8780487804878049, 0.8780487804878049, 0.8780487804878049, 0.8780487804878049, 0.8780487804878049, 0.8780487804878049, 0.8780487804878049, 0.8780487804878049, 0.8780487804878049, 0.8780487804878049, 0.8780487804878049, 0.8780487804878049, 0.8780487804878049, 0.8780487804878049, 0.8780487804878049, 0.8780487804878049, 0.8780487804878049, 0.8780487804878049, 0.8780487804878049, 0.8780487804878049, 0.8780487804878049, 0.8780487804878049, 0.8780487804878049, 0.8780487804878049, 0.8780487804878049, 0.8780487804878049, 0.8780487804878049, 0.8780487804878049, 0.8780487804878049, 0.8780487804878049, 0.8780487804878049, 0.8780487804878049, 0.8780487804878049, 0.8780487804878049, 0.8780487804878049, 0.8780487804878049, 0.8780487804878049, 0.8780487804878049, 0.8780487804878049, 0.8780487804878049, 0.8780487804878049, 0.8780487804878049, 0.8780487804878049, 0.8780487804878049, 0.8780487804878049, 0.8780487804878049, 0.8780487804878049, 0.8780487804878049, 0.8780487804878049, 0.8780487804878049, 0.8780487804878049, 0.8780487804878049, 0.8780487804878049, 0.8774944567627494, 0.8774944567627494, 0.8774944567627494, 0.8774944567627494, 0.8774944567627494, 0.8774944567627494, 0.8774944567627494, 0.8774944567627494, 0.8774944567627494, 0.8774944567627494, 0.8774944567627494, 0.8774944567627494, 0.8774944567627494, 0.8774944567627494, 0.8774944567627494, 0.8774944567627494, 0.8774944567627494, 0.8774944567627494, 0.8774944567627494, 0.8774944567627494, 0.8774944567627494, 0.8774944567627494, 0.8774944567627494, 0.8774944567627494, 0.8774944567627494, 0.8774944567627494, 0.8774944567627494, 0.8774944567627494, 0.8774944567627494, 0.8774944567627494, 0.8774944567627494, 0.8774944567627494, 0.8774944567627494, 0.8774944567627494, 0.8774944567627494, 0.8774944567627494, 0.8774944567627494, 0.8774944567627494, 0.8774944567627494, 0.8774944567627494, 0.8774944567627494, 0.8774944567627494, 0.8774944567627494, 0.8774944567627494, 0.8774944567627494, 0.8774944567627494, 0.8774944567627494, 0.8774944567627494, 0.8774944567627494, 0.8774944567627494, 0.876940133037694, 0.8774944567627494, 0.8774944567627494, 0.8774944567627494, 0.8763858093126385, 0.876940133037694, 0.8758314855875832, 0.8758314855875832, 0.8758314855875832, 0.8763858093126385, 0.8763858093126385, 0.8763858093126385, 0.8758314855875832, 0.8763858093126385, 0.8763858093126385, 0.8763858093126385, 0.8763858093126385, 0.8763858093126385, 0.8763858093126385, 0.8763858093126385, 0.8758314855875832, 0.8763858093126385, 0.8763858093126385, 0.8763858093126385, 0.8763858093126385, 0.8763858093126385, 0.8758314855875832, 0.8758314855875832, 0.8752771618625277, 0.8752771618625277, 0.8752771618625277, 0.8752771618625277, 0.8752771618625277, 0.8752771618625277, 0.8752771618625277, 0.8752771618625277, 0.8752771618625277, 0.8752771618625277, 0.8752771618625277, 0.8752771618625277, 0.8752771618625277, 0.8752771618625277, 0.8752771618625277, 0.8752771618625277, 0.8752771618625277, 0.8752771618625277, 0.8752771618625277, 0.8752771618625277, 0.8752771618625277, 0.8752771618625277, 0.8752771618625277, 0.8752771618625277, 0.8752771618625277, 0.8752771618625277, 0.8752771618625277, 0.8752771618625277, 0.8752771618625277, 0.8752771618625277, 0.8747228381374723, 0.8747228381374723, 0.8747228381374723, 0.8747228381374723, 0.8747228381374723, 0.8747228381374723, 0.8747228381374723, 0.8747228381374723, 0.8747228381374723, 0.8747228381374723, 0.8747228381374723, 0.8747228381374723, 0.8747228381374723, 0.8747228381374723, 0.8747228381374723, 0.8747228381374723, 0.8747228381374723, 0.8747228381374723, 0.8747228381374723, 0.8747228381374723, 0.8747228381374723, 0.8747228381374723, 0.8747228381374723, 0.8747228381374723, 0.8747228381374723, 0.8747228381374723, 0.8747228381374723, 0.8747228381374723, 0.8747228381374723, 0.8747228381374723, 0.8747228381374723, 0.8747228381374723, 0.8747228381374723, 0.8747228381374723, 0.8747228381374723, 0.8747228381374723, 0.8747228381374723, 0.8747228381374723, 0.8747228381374723, 0.8747228381374723, 0.8747228381374723, 0.8747228381374723, 0.8747228381374723, 0.8747228381374723, 0.8747228381374723, 0.8747228381374723, 0.8747228381374723, 0.8747228381374723, 0.8741685144124168, 0.8747228381374723, 0.8747228381374723, 0.8747228381374723, 0.8741685144124168, 0.8741685144124168, 0.8741685144124168, 0.8741685144124168, 0.8741685144124168, 0.8741685144124168, 0.8741685144124168, 0.8741685144124168, 0.8741685144124168, 0.8747228381374723, 0.8741685144124168, 0.8741685144124168, 0.8741685144124168, 0.8741685144124168, 0.8741685144124168, 0.8741685144124168, 0.8741685144124168, 0.8741685144124168, 0.8741685144124168, 0.8741685144124168, 0.8741685144124168, 0.8741685144124168, 0.8741685144124168, 0.8741685144124168]\n"
          ]
        }
      ],
      "source": [
        "k_range = range(100, 1000)\n",
        "\n",
        "# We can create Python dictionary using [] or dict()\n",
        "scores = []\n",
        "\n",
        "# We use a loop through the range 100 to 1000\n",
        "# We append the scores in the dictionary\n",
        "for k in k_range:\n",
        "    knn = KNeighborsClassifier(n_neighbors=k)\n",
        "    knn.fit(X_train, y_train)\n",
        "    y_pred = knn.predict(X_test)\n",
        "    scores.append(metrics.accuracy_score(y_test, y_pred))\n",
        "\n",
        "print(scores)"
      ]
    },
    {
      "cell_type": "code",
      "execution_count": null,
      "metadata": {
        "id": "oPEjVtlDA_5W",
        "colab": {
          "base_uri": "https://localhost:8080/",
          "height": 697
        },
        "outputId": "946bfba0-783f-4b42-c742-a0fc03239912"
      },
      "outputs": [
        {
          "output_type": "execute_result",
          "data": {
            "text/plain": [
              "Text(0, 0.5, 'Testing Accuracy')"
            ]
          },
          "metadata": {},
          "execution_count": 113
        },
        {
          "output_type": "display_data",
          "data": {
            "text/plain": [
              "<Figure size 1440x864 with 1 Axes>"
            ],
            "image/png": "[encoded data removed]"
          },
          "metadata": {
            "needs_background": "light"
          }
        }
      ],
      "source": [
        "# plot the relationship between K and testing accuracy\n",
        "# plt.plot(x_axis, y_axis)\n",
        "plt.figure(figsize=(20, 12))\n",
        "plt.plot(k_range, scores)\n",
        "plt.xlabel('Value of K for KNN')\n",
        "plt.ylabel('Testing Accuracy')"
      ]
    },
    {
      "cell_type": "code",
      "execution_count": null,
      "metadata": {
        "id": "rba8w6a30thA",
        "colab": {
          "base_uri": "https://localhost:8080/"
        },
        "outputId": "a96f9387-e951-400f-96ea-b9bf915d36c3"
      },
      "outputs": [
        {
          "output_type": "stream",
          "name": "stdout",
          "text": [
            "CRIME\n",
            "0    83.276034\n",
            "1    16.723966\n",
            "dtype: float64\n",
            "------------------\n",
            "Percentage Positive Instance = 16.723965842297883\n",
            "Percentage Negative Instance = 83.27603415770211 \n",
            "[[1508    0]\n",
            " [ 227   69]]\n"
          ]
        }
      ],
      "source": [
        "percentage_intances = data.groupby('CRIME').size() * 100 / len(data) #crime rate percentage based on true or false value that is crime is greater than 5000 or not\n",
        "print(percentage_intances)\n",
        "print(\"------------------\")\n",
        "print(\"Percentage Positive Instance = {}\\nPercentage Negative Instance = {} \".format(percentage_intances[1],percentage_intances[0]))\n",
        "print(confusion_matrix(y_test, y_pred)) "
      ]
    },
    {
      "cell_type": "code",
      "source": [
        "#Confusion Matrix for Crime Rate > 5000\n",
        "plt.figure(figsize=(9,9))\n",
        "sns.heatmap(cm, annot=True, fmt=\".3f\", linewidths=.5, square = True, cmap = 'Blues_r');\n",
        "plt.ylabel('Actual label');\n",
        "plt.xlabel('Predicted label');\n",
        "all_sample_title = 'Accuracy Score'.format()\n",
        "plt.title(all_sample_title, size = 15);"
      ],
      "metadata": {
        "colab": {
          "base_uri": "https://localhost:8080/",
          "height": 526
        },
        "id": "0VrLFwD_4SuK",
        "outputId": "7789e450-c05c-4885-d2b0-fb15f410314d"
      },
      "execution_count": null,
      "outputs": [
        {
          "output_type": "display_data",
          "data": {
            "text/plain": [
              "<Figure size 648x648 with 2 Axes>"
            ],
            "image/png": "[encoded data removed]"
          },
          "metadata": {
            "needs_background": "light"
          }
        }
      ]
    },
    {
      "cell_type": "markdown",
      "source": [
        ""
      ],
      "metadata": {
        "id": "qVQ10RhH6hwc"
      }
    },
    {
      "cell_type": "code",
      "source": [
        "X = data.drop(\"STATE/UT\",axis=1).values\n",
        "y = data[\"STATE/UT\"].values"
      ],
      "metadata": {
        "id": "SjovuXCI6JJN"
      },
      "execution_count": null,
      "outputs": []
    },
    {
      "cell_type": "code",
      "source": [
        "from sklearn.tree import DecisionTreeClassifier\n",
        "dtree = DecisionTreeClassifier()\n",
        "dtree.fit(X_train,y_train)"
      ],
      "metadata": {
        "colab": {
          "base_uri": "https://localhost:8080/"
        },
        "id": "n0igOtFi6oSk",
        "outputId": "1c067a1d-885e-4cc3-f210-b9c07fb0024b"
      },
      "execution_count": null,
      "outputs": [
        {
          "output_type": "execute_result",
          "data": {
            "text/plain": [
              "DecisionTreeClassifier()"
            ]
          },
          "metadata": {},
          "execution_count": 148
        }
      ]
    },
    {
      "cell_type": "code",
      "source": [
        "predictions = dtree.predict(X_test) #decision tree array for test\n",
        "predictions"
      ],
      "metadata": {
        "colab": {
          "base_uri": "https://localhost:8080/"
        },
        "id": "4-XcPRfB6v6w",
        "outputId": "d8b6d0b7-903a-4865-cc83-60acf91e6689"
      },
      "execution_count": null,
      "outputs": [
        {
          "output_type": "execute_result",
          "data": {
            "text/plain": [
              "array([1, 0, 1, ..., 1, 0, 0])"
            ]
          },
          "metadata": {},
          "execution_count": 154
        }
      ]
    },
    {
      "cell_type": "markdown",
      "source": [
        ""
      ],
      "metadata": {
        "id": "so5YEtB7BLQJ"
      }
    },
    {
      "cell_type": "code",
      "source": [
        "cols = ['YEAR', 'STATE/UT', 'DISTRICT', 'TOTAL IPC CRIMES', 'CRIME']\n",
        "new_data = data[cols]\n",
        "new_data.head()"
      ],
      "metadata": {
        "colab": {
          "base_uri": "https://localhost:8080/",
          "height": 206
        },
        "id": "TrW0bicjBc8y",
        "outputId": "7dca04ef-4e48-4fbd-eb1b-80e1ef9ec2b5"
      },
      "execution_count": null,
      "outputs": [
        {
          "output_type": "execute_result",
          "data": {
            "text/plain": [
              "   YEAR  STATE/UT       DISTRICT  TOTAL IPC CRIMES  CRIME\n",
              "0     0         1       ADILABAD              4154      0\n",
              "1     0         1      ANANTAPUR              4125      0\n",
              "2     0         1       CHITTOOR              5818      1\n",
              "3     0         1       CUDDAPAH              3140      0\n",
              "4     0         1  EAST GODAVARI              6507      1"
            ],
            "text/html": [
              "\n",
              "  <div id=\"df-c42b3eb3-2c32-4eca-a8de-988f1a97f13f\">\n",
              "    <div class=\"colab-df-container\">\n",
              "      <div>\n",
              "<style scoped>\n",
              "    .dataframe tbody tr th:only-of-type {\n",
              "        vertical-align: middle;\n",
              "    }\n",
              "\n",
              "    .dataframe tbody tr th {\n",
              "        vertical-align: top;\n",
              "    }\n",
              "\n",
              "    .dataframe thead th {\n",
              "        text-align: right;\n",
              "    }\n",
              "</style>\n",
              "<table border=\"1\" class=\"dataframe\">\n",
              "  <thead>\n",
              "    <tr style=\"text-align: right;\">\n",
              "      <th></th>\n",
              "      <th>YEAR</th>\n",
              "      <th>STATE/UT</th>\n",
              "      <th>DISTRICT</th>\n",
              "      <th>TOTAL IPC CRIMES</th>\n",
              "      <th>CRIME</th>\n",
              "    </tr>\n",
              "  </thead>\n",
              "  <tbody>\n",
              "    <tr>\n",
              "      <th>0</th>\n",
              "      <td>0</td>\n",
              "      <td>1</td>\n",
              "      <td>ADILABAD</td>\n",
              "      <td>4154</td>\n",
              "      <td>0</td>\n",
              "    </tr>\n",
              "    <tr>\n",
              "      <th>1</th>\n",
              "      <td>0</td>\n",
              "      <td>1</td>\n",
              "      <td>ANANTAPUR</td>\n",
              "      <td>4125</td>\n",
              "      <td>0</td>\n",
              "    </tr>\n",
              "    <tr>\n",
              "      <th>2</th>\n",
              "      <td>0</td>\n",
              "      <td>1</td>\n",
              "      <td>CHITTOOR</td>\n",
              "      <td>5818</td>\n",
              "      <td>1</td>\n",
              "    </tr>\n",
              "    <tr>\n",
              "      <th>3</th>\n",
              "      <td>0</td>\n",
              "      <td>1</td>\n",
              "      <td>CUDDAPAH</td>\n",
              "      <td>3140</td>\n",
              "      <td>0</td>\n",
              "    </tr>\n",
              "    <tr>\n",
              "      <th>4</th>\n",
              "      <td>0</td>\n",
              "      <td>1</td>\n",
              "      <td>EAST GODAVARI</td>\n",
              "      <td>6507</td>\n",
              "      <td>1</td>\n",
              "    </tr>\n",
              "  </tbody>\n",
              "</table>\n",
              "</div>\n",
              "      <button class=\"colab-df-convert\" onclick=\"convertToInteractive('df-c42b3eb3-2c32-4eca-a8de-988f1a97f13f')\"\n",
              "              title=\"Convert this dataframe to an interactive table.\"\n",
              "              style=\"display:none;\">\n",
              "        \n",
              "  <svg xmlns=\"http://www.w3.org/2000/svg\" height=\"24px\"viewBox=\"0 0 24 24\"\n",
              "       width=\"24px\">\n",
              "    <path d=\"M0 0h24v24H0V0z\" fill=\"none\"/>\n",
              "    <path d=\"M18.56 5.44l.94 2.06.94-2.06 2.06-.94-2.06-.94-.94-2.06-.94 2.06-2.06.94zm-11 1L8.5 8.5l.94-2.06 2.06-.94-2.06-.94L8.5 2.5l-.94 2.06-2.06.94zm10 10l.94 2.06.94-2.06 2.06-.94-2.06-.94-.94-2.06-.94 2.06-2.06.94z\"/><path d=\"M17.41 7.96l-1.37-1.37c-.4-.4-.92-.59-1.43-.59-.52 0-1.04.2-1.43.59L10.3 9.45l-7.72 7.72c-.78.78-.78 2.05 0 2.83L4 21.41c.39.39.9.59 1.41.59.51 0 1.02-.2 1.41-.59l7.78-7.78 2.81-2.81c.8-.78.8-2.07 0-2.86zM5.41 20L4 18.59l7.72-7.72 1.47 1.35L5.41 20z\"/>\n",
              "  </svg>\n",
              "      </button>\n",
              "      \n",
              "  <style>\n",
              "    .colab-df-container {\n",
              "      display:flex;\n",
              "      flex-wrap:wrap;\n",
              "      gap: 12px;\n",
              "    }\n",
              "\n",
              "    .colab-df-convert {\n",
              "      background-color: #E8F0FE;\n",
              "      border: none;\n",
              "      border-radius: 50%;\n",
              "      cursor: pointer;\n",
              "      display: none;\n",
              "      fill: #1967D2;\n",
              "      height: 32px;\n",
              "      padding: 0 0 0 0;\n",
              "      width: 32px;\n",
              "    }\n",
              "\n",
              "    .colab-df-convert:hover {\n",
              "      background-color: #E2EBFA;\n",
              "      box-shadow: 0px 1px 2px rgba(60, 64, 67, 0.3), 0px 1px 3px 1px rgba(60, 64, 67, 0.15);\n",
              "      fill: #174EA6;\n",
              "    }\n",
              "\n",
              "    [theme=dark] .colab-df-convert {\n",
              "      background-color: #3B4455;\n",
              "      fill: #D2E3FC;\n",
              "    }\n",
              "\n",
              "    [theme=dark] .colab-df-convert:hover {\n",
              "      background-color: #434B5C;\n",
              "      box-shadow: 0px 1px 3px 1px rgba(0, 0, 0, 0.15);\n",
              "      filter: drop-shadow(0px 1px 2px rgba(0, 0, 0, 0.3));\n",
              "      fill: #FFFFFF;\n",
              "    }\n",
              "  </style>\n",
              "\n",
              "      <script>\n",
              "        const buttonEl =\n",
              "          document.querySelector('#df-c42b3eb3-2c32-4eca-a8de-988f1a97f13f button.colab-df-convert');\n",
              "        buttonEl.style.display =\n",
              "          google.colab.kernel.accessAllowed ? 'block' : 'none';\n",
              "\n",
              "        async function convertToInteractive(key) {\n",
              "          const element = document.querySelector('#df-c42b3eb3-2c32-4eca-a8de-988f1a97f13f');\n",
              "          const dataTable =\n",
              "            await google.colab.kernel.invokeFunction('convertToInteractive',\n",
              "                                                     [key], {});\n",
              "          if (!dataTable) return;\n",
              "\n",
              "          const docLinkHtml = 'Like what you see? Visit the ' +\n",
              "            '<a target=\"_blank\" href=https://colab.research.google.com/notebooks/data_table.ipynb>data table notebook</a>'\n",
              "            + ' to learn more about interactive tables.';\n",
              "          element.innerHTML = '';\n",
              "          dataTable['output_type'] = 'display_data';\n",
              "          await google.colab.output.renderOutput(dataTable, element);\n",
              "          const docLink = document.createElement('div');\n",
              "          docLink.innerHTML = docLinkHtml;\n",
              "          element.appendChild(docLink);\n",
              "        }\n",
              "      </script>\n",
              "    </div>\n",
              "  </div>\n",
              "  "
            ]
          },
          "metadata": {},
          "execution_count": 164
        }
      ]
    },
    {
      "cell_type": "code",
      "source": [
        "new_data['DISTRICT'] = new_data['DISTRICT'].astype('category')\n",
        "new_data['CRIME'] = new_data['CRIME'].astype('category')\n",
        "\n",
        "new_data['DISTRICT_Cat'] = new_data['DISTRICT'].cat.codes\n",
        "new_data['CRIME_Cat'] = new_data['DISTRICT'].cat.codes\n",
        "# new_df['Crime_Cat'] = new_df['Primary Type'].cat.codes\n",
        "new_data.head()"
      ],
      "metadata": {
        "colab": {
          "base_uri": "https://localhost:8080/",
          "height": 642
        },
        "id": "TSkY8CAKBy0M",
        "outputId": "5b8a7a18-4cc5-4d9b-cbe6-74a737ea1828"
      },
      "execution_count": null,
      "outputs": [
        {
          "output_type": "stream",
          "name": "stderr",
          "text": [
            "/usr/local/lib/python3.7/dist-packages/ipykernel_launcher.py:1: SettingWithCopyWarning: \n",
            "A value is trying to be set on a copy of a slice from a DataFrame.\n",
            "Try using .loc[row_indexer,col_indexer] = value instead\n",
            "\n",
            "See the caveats in the documentation: https://pandas.pydata.org/pandas-docs/stable/user_guide/indexing.html#returning-a-view-versus-a-copy\n",
            "  \"\"\"Entry point for launching an IPython kernel.\n",
            "/usr/local/lib/python3.7/dist-packages/ipykernel_launcher.py:2: SettingWithCopyWarning: \n",
            "A value is trying to be set on a copy of a slice from a DataFrame.\n",
            "Try using .loc[row_indexer,col_indexer] = value instead\n",
            "\n",
            "See the caveats in the documentation: https://pandas.pydata.org/pandas-docs/stable/user_guide/indexing.html#returning-a-view-versus-a-copy\n",
            "  \n",
            "/usr/local/lib/python3.7/dist-packages/ipykernel_launcher.py:4: SettingWithCopyWarning: \n",
            "A value is trying to be set on a copy of a slice from a DataFrame.\n",
            "Try using .loc[row_indexer,col_indexer] = value instead\n",
            "\n",
            "See the caveats in the documentation: https://pandas.pydata.org/pandas-docs/stable/user_guide/indexing.html#returning-a-view-versus-a-copy\n",
            "  after removing the cwd from sys.path.\n",
            "/usr/local/lib/python3.7/dist-packages/ipykernel_launcher.py:5: SettingWithCopyWarning: \n",
            "A value is trying to be set on a copy of a slice from a DataFrame.\n",
            "Try using .loc[row_indexer,col_indexer] = value instead\n",
            "\n",
            "See the caveats in the documentation: https://pandas.pydata.org/pandas-docs/stable/user_guide/indexing.html#returning-a-view-versus-a-copy\n",
            "  \"\"\"\n"
          ]
        },
        {
          "output_type": "execute_result",
          "data": {
            "text/plain": [
              "   YEAR  STATE/UT       DISTRICT  TOTAL IPC CRIMES CRIME  DISTRICT_Cat  \\\n",
              "0     0         1       ADILABAD              4154     0             3   \n",
              "1     0         1      ANANTAPUR              4125     0            28   \n",
              "2     0         1       CHITTOOR              5818     1           154   \n",
              "3     0         1       CUDDAPAH              3140     0           172   \n",
              "4     0         1  EAST GODAVARI              6507     1           220   \n",
              "\n",
              "   CRIME_Cat  \n",
              "0          3  \n",
              "1         28  \n",
              "2        154  \n",
              "3        172  \n",
              "4        220  "
            ],
            "text/html": [
              "\n",
              "  <div id=\"df-ee810a8f-d7fa-4a5b-9152-bdc4d3ddb476\">\n",
              "    <div class=\"colab-df-container\">\n",
              "      <div>\n",
              "<style scoped>\n",
              "    .dataframe tbody tr th:only-of-type {\n",
              "        vertical-align: middle;\n",
              "    }\n",
              "\n",
              "    .dataframe tbody tr th {\n",
              "        vertical-align: top;\n",
              "    }\n",
              "\n",
              "    .dataframe thead th {\n",
              "        text-align: right;\n",
              "    }\n",
              "</style>\n",
              "<table border=\"1\" class=\"dataframe\">\n",
              "  <thead>\n",
              "    <tr style=\"text-align: right;\">\n",
              "      <th></th>\n",
              "      <th>YEAR</th>\n",
              "      <th>STATE/UT</th>\n",
              "      <th>DISTRICT</th>\n",
              "      <th>TOTAL IPC CRIMES</th>\n",
              "      <th>CRIME</th>\n",
              "      <th>DISTRICT_Cat</th>\n",
              "      <th>CRIME_Cat</th>\n",
              "    </tr>\n",
              "  </thead>\n",
              "  <tbody>\n",
              "    <tr>\n",
              "      <th>0</th>\n",
              "      <td>0</td>\n",
              "      <td>1</td>\n",
              "      <td>ADILABAD</td>\n",
              "      <td>4154</td>\n",
              "      <td>0</td>\n",
              "      <td>3</td>\n",
              "      <td>3</td>\n",
              "    </tr>\n",
              "    <tr>\n",
              "      <th>1</th>\n",
              "      <td>0</td>\n",
              "      <td>1</td>\n",
              "      <td>ANANTAPUR</td>\n",
              "      <td>4125</td>\n",
              "      <td>0</td>\n",
              "      <td>28</td>\n",
              "      <td>28</td>\n",
              "    </tr>\n",
              "    <tr>\n",
              "      <th>2</th>\n",
              "      <td>0</td>\n",
              "      <td>1</td>\n",
              "      <td>CHITTOOR</td>\n",
              "      <td>5818</td>\n",
              "      <td>1</td>\n",
              "      <td>154</td>\n",
              "      <td>154</td>\n",
              "    </tr>\n",
              "    <tr>\n",
              "      <th>3</th>\n",
              "      <td>0</td>\n",
              "      <td>1</td>\n",
              "      <td>CUDDAPAH</td>\n",
              "      <td>3140</td>\n",
              "      <td>0</td>\n",
              "      <td>172</td>\n",
              "      <td>172</td>\n",
              "    </tr>\n",
              "    <tr>\n",
              "      <th>4</th>\n",
              "      <td>0</td>\n",
              "      <td>1</td>\n",
              "      <td>EAST GODAVARI</td>\n",
              "      <td>6507</td>\n",
              "      <td>1</td>\n",
              "      <td>220</td>\n",
              "      <td>220</td>\n",
              "    </tr>\n",
              "  </tbody>\n",
              "</table>\n",
              "</div>\n",
              "      <button class=\"colab-df-convert\" onclick=\"convertToInteractive('df-ee810a8f-d7fa-4a5b-9152-bdc4d3ddb476')\"\n",
              "              title=\"Convert this dataframe to an interactive table.\"\n",
              "              style=\"display:none;\">\n",
              "        \n",
              "  <svg xmlns=\"http://www.w3.org/2000/svg\" height=\"24px\"viewBox=\"0 0 24 24\"\n",
              "       width=\"24px\">\n",
              "    <path d=\"M0 0h24v24H0V0z\" fill=\"none\"/>\n",
              "    <path d=\"M18.56 5.44l.94 2.06.94-2.06 2.06-.94-2.06-.94-.94-2.06-.94 2.06-2.06.94zm-11 1L8.5 8.5l.94-2.06 2.06-.94-2.06-.94L8.5 2.5l-.94 2.06-2.06.94zm10 10l.94 2.06.94-2.06 2.06-.94-2.06-.94-.94-2.06-.94 2.06-2.06.94z\"/><path d=\"M17.41 7.96l-1.37-1.37c-.4-.4-.92-.59-1.43-.59-.52 0-1.04.2-1.43.59L10.3 9.45l-7.72 7.72c-.78.78-.78 2.05 0 2.83L4 21.41c.39.39.9.59 1.41.59.51 0 1.02-.2 1.41-.59l7.78-7.78 2.81-2.81c.8-.78.8-2.07 0-2.86zM5.41 20L4 18.59l7.72-7.72 1.47 1.35L5.41 20z\"/>\n",
              "  </svg>\n",
              "      </button>\n",
              "      \n",
              "  <style>\n",
              "    .colab-df-container {\n",
              "      display:flex;\n",
              "      flex-wrap:wrap;\n",
              "      gap: 12px;\n",
              "    }\n",
              "\n",
              "    .colab-df-convert {\n",
              "      background-color: #E8F0FE;\n",
              "      border: none;\n",
              "      border-radius: 50%;\n",
              "      cursor: pointer;\n",
              "      display: none;\n",
              "      fill: #1967D2;\n",
              "      height: 32px;\n",
              "      padding: 0 0 0 0;\n",
              "      width: 32px;\n",
              "    }\n",
              "\n",
              "    .colab-df-convert:hover {\n",
              "      background-color: #E2EBFA;\n",
              "      box-shadow: 0px 1px 2px rgba(60, 64, 67, 0.3), 0px 1px 3px 1px rgba(60, 64, 67, 0.15);\n",
              "      fill: #174EA6;\n",
              "    }\n",
              "\n",
              "    [theme=dark] .colab-df-convert {\n",
              "      background-color: #3B4455;\n",
              "      fill: #D2E3FC;\n",
              "    }\n",
              "\n",
              "    [theme=dark] .colab-df-convert:hover {\n",
              "      background-color: #434B5C;\n",
              "      box-shadow: 0px 1px 3px 1px rgba(0, 0, 0, 0.15);\n",
              "      filter: drop-shadow(0px 1px 2px rgba(0, 0, 0, 0.3));\n",
              "      fill: #FFFFFF;\n",
              "    }\n",
              "  </style>\n",
              "\n",
              "      <script>\n",
              "        const buttonEl =\n",
              "          document.querySelector('#df-ee810a8f-d7fa-4a5b-9152-bdc4d3ddb476 button.colab-df-convert');\n",
              "        buttonEl.style.display =\n",
              "          google.colab.kernel.accessAllowed ? 'block' : 'none';\n",
              "\n",
              "        async function convertToInteractive(key) {\n",
              "          const element = document.querySelector('#df-ee810a8f-d7fa-4a5b-9152-bdc4d3ddb476');\n",
              "          const dataTable =\n",
              "            await google.colab.kernel.invokeFunction('convertToInteractive',\n",
              "                                                     [key], {});\n",
              "          if (!dataTable) return;\n",
              "\n",
              "          const docLinkHtml = 'Like what you see? Visit the ' +\n",
              "            '<a target=\"_blank\" href=https://colab.research.google.com/notebooks/data_table.ipynb>data table notebook</a>'\n",
              "            + ' to learn more about interactive tables.';\n",
              "          element.innerHTML = '';\n",
              "          dataTable['output_type'] = 'display_data';\n",
              "          await google.colab.output.renderOutput(dataTable, element);\n",
              "          const docLink = document.createElement('div');\n",
              "          docLink.innerHTML = docLinkHtml;\n",
              "          element.appendChild(docLink);\n",
              "        }\n",
              "      </script>\n",
              "    </div>\n",
              "  </div>\n",
              "  "
            ]
          },
          "metadata": {},
          "execution_count": 166
        }
      ]
    },
    {
      "cell_type": "markdown",
      "source": [
        "# Using Decision Trees for classification"
      ],
      "metadata": {
        "id": "xGj28vRcFsJX"
      }
    },
    {
      "cell_type": "code",
      "source": [
        "X = new_data[[ 'TOTAL IPC CRIMES','DISTRICT_Cat', 'YEAR']] # independent variable\n",
        "y = new_data['STATE/UT'] # dependent variable \n",
        "\n",
        "# Let's split the dataset\n",
        "X_train, X_test, y_train, y_test = train_test_split(X, y, test_size=0.25, random_state=1) # 75:25 split\n",
        "\n",
        "# print(X_train)\n",
        "# print(X_test)\n",
        "# Creating tree\n",
        "d_tree = DecisionTreeClassifier(random_state=10)\n",
        "# Fitting tree\n",
        "d_tree = d_tree.fit(X_train, y_train)\n",
        "# Predicting !\n",
        "y_pred = d_tree.predict(X_test)\n",
        "\n",
        "# Model Evaluation\n",
        "# print(y_test)\n",
        "# print(y_pred)\n",
        "print(\"Accuracy:\",(metrics.accuracy_score(y_test, y_pred)*100),\"\\n\")\n",
        "\n",
        "# Confusion Matrix for evaluating the model\n",
        "cm = pd.crosstab(y_test, y_pred, rownames=['Actual Alarm'], colnames=['Predicted Alarm'])\n",
        "print(\"\\n----------Confusion Matrix------------------------------------\")\n",
        "print(cm)\n",
        "\n",
        "# Classification Report\n",
        "print(\"\\n----------Classification Report------------------------------------\")\n",
        "print(classification_report(y_test,y_pred))\n",
        "\n",
        "# Unweighted Average Recall\n",
        "print(\"\\nUAR ->\",((cm[0][0])/(cm[0][0]+cm[1][0]+cm[2][0])+(cm[1][1])/(cm[0][1]+cm[1][1]+cm[2][1])+(cm[2][2])/(cm[2][2]+cm[0][2]+cm[1][2]))/3)"
      ],
      "metadata": {
        "colab": {
          "base_uri": "https://localhost:8080/"
        },
        "id": "QXcYF8aHEHVL",
        "outputId": "39cea156-e452-4775-f84e-cb983bac67ed"
      },
      "execution_count": null,
      "outputs": [
        {
          "output_type": "stream",
          "name": "stdout",
          "text": [
            "Accuracy: 87.58314855875831 \n",
            "\n",
            "\n",
            "----------Confusion Matrix------------------------------------\n",
            "Predicted Alarm  0   1   2   3    4   5   6   7   8   9   ...  25  26  27  \\\n",
            "Actual Alarm                                              ...               \n",
            "0                 6   0   0   0    0   0   0   0   0   0  ...   0   0   0   \n",
            "1                 0  74   0   3    0   0   0   0   0   0  ...   0   1   0   \n",
            "2                 0   0  45   0    0   0   0   0   0   0  ...   0   0   0   \n",
            "3                 0   0   0  70    0   0   4   0   0   0  ...   3   0   0   \n",
            "4                 0   1   0   0  114   0   0   0   0   0  ...   3   0   0   \n",
            "5                 0   0   0   0    0   3   0   0   0   0  ...   0   0   0   \n",
            "6                 0   1   1   0    0   0  52   0   0   0  ...   3   0   1   \n",
            "7                 0   0   0   0    0   0   0   5   0   0  ...   0   0   0   \n",
            "8                 0   0   0   0    0   0   0   1   8   0  ...   0   0   0   \n",
            "9                 0   0   0   0    0   0   0   0   0  38  ...   0   0   0   \n",
            "10                0   0   1   0    0   0   0   0   0   0  ...   0   0   0   \n",
            "11                0   0   0   0    1   0   0   0   0   0  ...   2   0   1   \n",
            "12                0   0   0   1    0   0   2   0   0   0  ...   0   0   0   \n",
            "13                0   0   0   1    0   0   0   0   0   0  ...   0   0   0   \n",
            "14                0   0   0   0    0   0   0   0   1   0  ...   2   0   0   \n",
            "15                0   1   0   3    2   0   1   0   0   0  ...   5   0   0   \n",
            "16                0   4   0   2    1   0   4   0   0   0  ...   0   0   0   \n",
            "17                0   1   0   0    0   0   0   0   0   0  ...   0   0   0   \n",
            "18                0   0   0   0    0   0   0   0   0   0  ...   0   0   0   \n",
            "19                0   1   0   3    3   0   0   0   0   0  ...   3   0   0   \n",
            "20                0   1   0   3    0   0   0   0   0   0  ...   0   0   0   \n",
            "21                0   0   0   0    0   0   0   0   0   0  ...   0   0   0   \n",
            "22                0   0   0   0    0   0   0   0   0   0  ...   0   0   0   \n",
            "23                0   0   0   0    0   0   0   0   0   0  ...   0   0   0   \n",
            "24                0   0   1   0    0   0   0   0   0   0  ...   0   0   0   \n",
            "25                0   0   0   0    0   0   0   0   0   0  ...  95   0   3   \n",
            "26                0   0   0   0    0   0   0   0   0   0  ...   0   6   0   \n",
            "27                0   0   0   1    0   0   0   0   0   0  ...   2   0  86   \n",
            "28                0   0   0   0    0   0   1   0   0   0  ...   0   0   0   \n",
            "29                0   0   0   0    0   0   0   0   0   0  ...   1   0   0   \n",
            "30                0   2   1   0    1   0   0   0   0   1  ...   0   0   0   \n",
            "31                0   0   0   1    0   1   0   0   0   0  ...   0   0   0   \n",
            "32                0   1   0   4    7   0   3   0   0   0  ...   0   1   1   \n",
            "33                0   0   0   0    0   0   0   0   0   0  ...   0   0   0   \n",
            "34                0   0   0   2    2   0   0   0   0   0  ...   0   0   0   \n",
            "\n",
            "Predicted Alarm   28  29   30  31   32  33  34  \n",
            "Actual Alarm                                    \n",
            "0                  0   2    0   0    0   0   0  \n",
            "1                  0   0    0   0    1   0   1  \n",
            "2                  0   0    0   0    0   0   0  \n",
            "3                  2   0    0   0    0   0   4  \n",
            "4                  0   0    0   0    4   0   2  \n",
            "5                  0   0    0   1    0   0   0  \n",
            "6                  0   0    0   0    3   0   0  \n",
            "7                  0   0    0   0    0   0   0  \n",
            "8                  0   0    0   0    0   0   0  \n",
            "9                  0   0    0   0    0   0   0  \n",
            "10                 0   0    0   1    0   0   0  \n",
            "11                 0   0    0   0    1   0   1  \n",
            "12                 1   0    0   0    0   0   0  \n",
            "13                 0   0    0   1    2   0   0  \n",
            "14                 0   0    0   0    0   0   0  \n",
            "15                 0   0    0   0    1   0   1  \n",
            "16                 0   0    0   0    0   1   0  \n",
            "17                 1   0    0   0    0   0   1  \n",
            "18                 0   0    0   0    0   0   0  \n",
            "19                 0   0    0   0    3   0   1  \n",
            "20                 0   0    0   0    0   0   0  \n",
            "21                 0   0    0   0    0   0   0  \n",
            "22                 0   0    0   0    0   0   0  \n",
            "23                 0   0    0   1    0   0   0  \n",
            "24                 0   0    0   0    0   0   0  \n",
            "25                 0   0    0   0    0   0   1  \n",
            "26                 1   0    0   0    0   0   0  \n",
            "27                 0   0    0   0    0   0   1  \n",
            "28               104   0    0   0    6   0   1  \n",
            "29                 0   8    0   0    0   0   0  \n",
            "30                 2   0  119   0    0   1   0  \n",
            "31                 0   0    0  17    0   0   0  \n",
            "32                 4   0    1   0  199   0   0  \n",
            "33                 0   0    0   0    0  37   0  \n",
            "34                 2   0    0   0    2   0  61  \n",
            "\n",
            "[35 rows x 35 columns]\n",
            "\n",
            "----------Classification Report------------------------------------\n",
            "              precision    recall  f1-score   support\n",
            "\n",
            "           0       1.00      0.67      0.80         9\n",
            "           1       0.85      0.86      0.86        86\n",
            "           2       0.92      0.98      0.95        46\n",
            "           3       0.74      0.75      0.75        93\n",
            "           4       0.87      0.86      0.87       132\n",
            "           5       0.75      0.50      0.60         6\n",
            "           6       0.78      0.85      0.81        61\n",
            "           7       0.83      1.00      0.91         5\n",
            "           8       0.89      0.89      0.89         9\n",
            "           9       0.97      0.95      0.96        40\n",
            "          10       0.56      0.56      0.56         9\n",
            "          11       0.86      0.85      0.86        80\n",
            "          12       0.89      0.95      0.92        80\n",
            "          13       0.73      0.88      0.80        34\n",
            "          14       0.97      0.90      0.93        78\n",
            "          15       0.87      0.82      0.85       101\n",
            "          16       0.91      0.87      0.89        93\n",
            "          17       0.79      0.94      0.86        48\n",
            "          18       0.89      0.89      0.89         9\n",
            "          19       0.91      0.83      0.87       157\n",
            "          20       0.94      0.94      0.94       149\n",
            "          21       0.81      0.81      0.81        16\n",
            "          22       0.93      0.89      0.91        28\n",
            "          23       0.71      0.88      0.79        25\n",
            "          24       0.84      0.97      0.90        32\n",
            "          25       0.80      0.96      0.87        99\n",
            "          26       0.75      0.86      0.80         7\n",
            "          27       0.93      0.91      0.92        95\n",
            "          28       0.89      0.91      0.90       114\n",
            "          29       0.80      0.89      0.84         9\n",
            "          30       0.99      0.89      0.94       133\n",
            "          31       0.81      0.71      0.76        24\n",
            "          32       0.90      0.85      0.87       234\n",
            "          33       0.95      0.97      0.96        38\n",
            "          34       0.81      0.80      0.81        76\n",
            "\n",
            "    accuracy                           0.88      2255\n",
            "   macro avg       0.85      0.86      0.85      2255\n",
            "weighted avg       0.88      0.88      0.88      2255\n",
            "\n",
            "\n",
            "UAR -> 1.0\n"
          ]
        }
      ]
    }
  ],
  "metadata": {
    "colab": {
      "collapsed_sections": [],
      "name": "ML_MiniProject.ipynb",
      "provenance": []
    },
    "kernelspec": {
      "display_name": "Python 3",
      "name": "python3"
    },
    "language_info": {
      "name": "python"
    }
  },
  "nbformat": 4,
  "nbformat_minor": 0
}